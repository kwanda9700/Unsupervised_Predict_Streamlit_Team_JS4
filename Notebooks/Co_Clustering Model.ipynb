{
 "cells": [
  {
   "cell_type": "markdown",
   "metadata": {
    "id": "djw8qZIK-pUr"
   },
   "source": [
    "# Unsupervised Learning Team JS4\n",
    "We will use this Notebook to build and test various models relating to our goal.\n",
    "\n",
    "## Our Team:\n",
    "- Kwanda Silekwa\n",
    "- Thembinkosi Malefo\n",
    "- Sihle Riti\n",
    "- Nomfundo Manyisa\n",
    "- Ofentse Sabe\n",
    "- Thanyi\n",
    "\n",
    "## Introduction\n",
    "The rapid growth of data collection has led to a new era of information. Data is being used to create more efficient systems and this is where Recommendation Systems come into play. Recommendation Systems are a type of information filtering systems as they improve the quality of search results and provides items that are more relevant to the search item or are realted to the search history of the user.\n",
    "\n",
    "### What is recommendation system?\n",
    "Recommender System is a system that seeks to predict or filter preferences according to the user’s choices. Recommender systems are utilized in a variety of areas including movies, music, news, books, research articles, search queries, social tags, and products in general. Moreover, companies like Netflix and Spotify depend highly on the effectiveness of their recommendation engines for their business and sucees.\n",
    "\n",
    "![image.png](attachment:image.png)\n",
    "\n",
    "\n",
    "\n",
    "The current recommendation systems that are bring used and are popular are the content-based filtering and collaborative filtering which works by implementing different information sources to make the recommendations.\n",
    "\n",
    "- Content-based filtering (CBF) : makes recommendations based on user preferences for product features.\n",
    "- Collaborative filtering (CF): mimics user-to-user recommendations (i.e. it relies on how other users have responded to the same items). \n",
    "\n",
    "It predicts users preferences as a linear, weighted combination of other user preferences.\n",
    "We have to note that both of these methods have limitations: The CBF can recommend a new item but needs more data on user preferences to give out the best match. On the other hand, the CF requires large dataset with active users who rated the product before to make the most accurate predictions. The combination of both of these methods is known as hybrid recommendation systems.\n",
    "\n",
    "## Problem statement:\n",
    "Construct a recommendation algorithm based on content or collaborative filtering, capable of accurately predicting how a user will rate a movie they have not yet viewed based on their historical preferences"
   ]
  },
  {
   "cell_type": "markdown",
   "metadata": {
    "id": "8M8qB201-pUv"
   },
   "source": [
    "## Importing Libraries"
   ]
  },
  {
   "cell_type": "code",
   "execution_count": 5,
   "metadata": {
    "execution": {
     "iopub.execute_input": "2021-07-22T11:07:28.583607Z",
     "iopub.status.busy": "2021-07-22T11:07:28.582852Z",
     "iopub.status.idle": "2021-07-22T11:07:28.587682Z",
     "shell.execute_reply": "2021-07-22T11:07:28.586771Z",
     "shell.execute_reply.started": "2021-07-22T11:07:28.583544Z"
    },
    "id": "yMFudhNn_C_P",
    "outputId": "a74a3bd2-798c-4cac-964b-ee38c11912ce"
   },
   "outputs": [],
   "source": [
    "# !pip install surprise"
   ]
  },
  {
   "cell_type": "code",
   "execution_count": 2,
   "metadata": {
    "execution": {
     "iopub.execute_input": "2021-07-22T12:08:06.801956Z",
     "iopub.status.busy": "2021-07-22T12:08:06.801461Z",
     "iopub.status.idle": "2021-07-22T12:08:19.893008Z",
     "shell.execute_reply": "2021-07-22T12:08:19.891765Z",
     "shell.execute_reply.started": "2021-07-22T12:08:06.801912Z"
    }
   },
   "outputs": [
    {
     "name": "stdout",
     "output_type": "stream",
     "text": [
      "Collecting comet_ml\n",
      "  Downloading comet_ml-3.13.1-py2.py3-none-any.whl (276 kB)\n",
      "\u001b[K     |████████████████████████████████| 276 kB 1.2 MB/s eta 0:00:01\n",
      "\u001b[?25hCollecting wurlitzer>=1.0.2\n",
      "  Downloading wurlitzer-2.1.1-py2.py3-none-any.whl (6.2 kB)\n",
      "Collecting dulwich>=0.20.6\n",
      "  Downloading dulwich-0.20.24-cp37-cp37m-manylinux_2_5_x86_64.manylinux1_x86_64.manylinux_2_12_x86_64.manylinux2010_x86_64.whl (529 kB)\n",
      "\u001b[K     |████████████████████████████████| 529 kB 8.4 MB/s eta 0:00:01\n",
      "\u001b[?25hCollecting semantic-version>=2.8.0\n",
      "  Downloading semantic_version-2.8.5-py2.py3-none-any.whl (15 kB)\n",
      "Collecting everett[ini]>=1.0.1\n",
      "  Downloading everett-1.0.3-py2.py3-none-any.whl (31 kB)\n",
      "Requirement already satisfied: websocket-client>=0.55.0 in /opt/conda/lib/python3.7/site-packages (from comet_ml) (0.57.0)\n",
      "Requirement already satisfied: requests>=2.18.4 in /opt/conda/lib/python3.7/site-packages (from comet_ml) (2.25.1)\n",
      "Collecting requests-toolbelt>=0.8.0\n",
      "  Downloading requests_toolbelt-0.9.1-py2.py3-none-any.whl (54 kB)\n",
      "\u001b[K     |████████████████████████████████| 54 kB 1.9 MB/s  eta 0:00:01\n",
      "\u001b[?25hRequirement already satisfied: wrapt>=1.11.2 in /opt/conda/lib/python3.7/site-packages (from comet_ml) (1.12.1)\n",
      "Requirement already satisfied: six in /opt/conda/lib/python3.7/site-packages (from comet_ml) (1.15.0)\n",
      "Requirement already satisfied: jsonschema!=3.1.0,>=2.6.0 in /opt/conda/lib/python3.7/site-packages (from comet_ml) (3.2.0)\n",
      "Requirement already satisfied: nvidia-ml-py3>=7.352.0 in /opt/conda/lib/python3.7/site-packages (from comet_ml) (7.352.0)\n",
      "Requirement already satisfied: certifi in /opt/conda/lib/python3.7/site-packages (from dulwich>=0.20.6->comet_ml) (2021.5.30)\n",
      "Requirement already satisfied: urllib3>=1.24.1 in /opt/conda/lib/python3.7/site-packages (from dulwich>=0.20.6->comet_ml) (1.26.5)\n",
      "Collecting configobj\n",
      "  Downloading configobj-5.0.6.tar.gz (33 kB)\n",
      "Requirement already satisfied: setuptools in /opt/conda/lib/python3.7/site-packages (from jsonschema!=3.1.0,>=2.6.0->comet_ml) (49.6.0.post20210108)\n",
      "Requirement already satisfied: pyrsistent>=0.14.0 in /opt/conda/lib/python3.7/site-packages (from jsonschema!=3.1.0,>=2.6.0->comet_ml) (0.17.3)\n",
      "Requirement already satisfied: attrs>=17.4.0 in /opt/conda/lib/python3.7/site-packages (from jsonschema!=3.1.0,>=2.6.0->comet_ml) (21.2.0)\n",
      "Requirement already satisfied: importlib-metadata in /opt/conda/lib/python3.7/site-packages (from jsonschema!=3.1.0,>=2.6.0->comet_ml) (3.4.0)\n",
      "Requirement already satisfied: idna<3,>=2.5 in /opt/conda/lib/python3.7/site-packages (from requests>=2.18.4->comet_ml) (2.10)\n",
      "Requirement already satisfied: chardet<5,>=3.0.2 in /opt/conda/lib/python3.7/site-packages (from requests>=2.18.4->comet_ml) (4.0.0)\n",
      "Requirement already satisfied: typing-extensions>=3.6.4 in /opt/conda/lib/python3.7/site-packages (from importlib-metadata->jsonschema!=3.1.0,>=2.6.0->comet_ml) (3.7.4.3)\n",
      "Requirement already satisfied: zipp>=0.5 in /opt/conda/lib/python3.7/site-packages (from importlib-metadata->jsonschema!=3.1.0,>=2.6.0->comet_ml) (3.4.1)\n",
      "Building wheels for collected packages: configobj\n",
      "  Building wheel for configobj (setup.py) ... \u001b[?25ldone\n",
      "\u001b[?25h  Created wheel for configobj: filename=configobj-5.0.6-py3-none-any.whl size=34547 sha256=0c50a5f806db3debf6d9637634730f92b962955ddde8f334b6bf52a37e8690a8\n",
      "  Stored in directory: /root/.cache/pip/wheels/0d/c4/19/13d74440f2a571841db6b6e0a273694327498884dafb9cf978\n",
      "Successfully built configobj\n",
      "Installing collected packages: everett, configobj, wurlitzer, semantic-version, requests-toolbelt, dulwich, comet-ml\n",
      "Successfully installed comet-ml-3.13.1 configobj-5.0.6 dulwich-0.20.24 everett-1.0.3 requests-toolbelt-0.9.1 semantic-version-2.8.5 wurlitzer-2.1.1\n",
      "\u001b[33mWARNING: Running pip as root will break packages and permissions. You should install packages reliably by using venv: https://pip.pypa.io/warnings/venv\u001b[0m\n"
     ]
    }
   ],
   "source": [
    "!pip install comet_ml"
   ]
  },
  {
   "cell_type": "code",
   "execution_count": 4,
   "metadata": {
    "execution": {
     "iopub.execute_input": "2021-07-22T12:08:34.450628Z",
     "iopub.status.busy": "2021-07-22T12:08:34.450219Z",
     "iopub.status.idle": "2021-07-22T12:08:36.326481Z",
     "shell.execute_reply": "2021-07-22T12:08:36.325476Z",
     "shell.execute_reply.started": "2021-07-22T12:08:34.450596Z"
    },
    "id": "cZVkLKUX-pUw",
    "outputId": "ffa4ae5d-dbd2-4afd-c109-965ea827de4d"
   },
   "outputs": [
    {
     "data": {
      "text/html": [
       "        <script type=\"text/javascript\">\n",
       "        window.PlotlyConfig = {MathJaxConfig: 'local'};\n",
       "        if (window.MathJax) {MathJax.Hub.Config({SVG: {font: \"STIX-Web\"}});}\n",
       "        if (typeof require !== 'undefined') {\n",
       "        require.undef(\"plotly\");\n",
       "        requirejs.config({\n",
       "            paths: {\n",
       "                'plotly': ['https://cdn.plot.ly/plotly-2.2.0.min']\n",
       "            }\n",
       "        });\n",
       "        require(['plotly'], function(Plotly) {\n",
       "            window._Plotly = Plotly;\n",
       "        });\n",
       "        }\n",
       "        </script>\n",
       "        "
      ]
     },
     "metadata": {},
     "output_type": "display_data"
    },
    {
     "name": "stdout",
     "output_type": "stream",
     "text": [
      "/kaggle/input/edsa-movie-recommendation-challenge/sample_submission.csv\n",
      "/kaggle/input/edsa-movie-recommendation-challenge/movies.csv\n",
      "/kaggle/input/edsa-movie-recommendation-challenge/imdb_data.csv\n",
      "/kaggle/input/edsa-movie-recommendation-challenge/genome_tags.csv\n",
      "/kaggle/input/edsa-movie-recommendation-challenge/genome_scores.csv\n",
      "/kaggle/input/edsa-movie-recommendation-challenge/train.csv\n",
      "/kaggle/input/edsa-movie-recommendation-challenge/test.csv\n",
      "/kaggle/input/edsa-movie-recommendation-challenge/tags.csv\n",
      "/kaggle/input/edsa-movie-recommendation-challenge/links.csv\n"
     ]
    }
   ],
   "source": [
    "from comet_ml import Experiment\n",
    "\n",
    "# Packages for data processing\n",
    "import numpy as np\n",
    "import pandas as pd\n",
    "# import datetime\n",
    "from sklearn import preprocessing\n",
    "from sklearn.datasets import make_blobs\n",
    "from sklearn.preprocessing import StandardScaler\n",
    "from sklearn.feature_extraction.text import TfidfVectorizer\n",
    "from sklearn.metrics.pairwise import cosine_similarity\n",
    "import re\n",
    "from scipy.sparse import csr_matrix\n",
    "import scipy as sp\n",
    "from ast import literal_eval\n",
    "import ast\n",
    "from IPython.display import FileLink\n",
    "from collections import Counter\n",
    "\n",
    "# visualisation libraries\n",
    "from matplotlib import pyplot as plt\n",
    "import seaborn as sns\n",
    "from numpy.random import RandomState\n",
    "from plotly.offline import init_notebook_mode, plot, iplot\n",
    "import plotly.graph_objs as go\n",
    "init_notebook_mode(connected=True)\n",
    "\n",
    "# Packages for modeling\n",
    "from surprise import Reader\n",
    "from surprise import Dataset\n",
    "from surprise import KNNWithMeans\n",
    "from surprise import KNNBasic\n",
    "from surprise.model_selection import cross_validate\n",
    "from surprise.model_selection import GridSearchCV\n",
    "from surprise.model_selection import train_test_split\n",
    "from surprise import SVD\n",
    "from surprise import SVDpp\n",
    "from surprise import NMF\n",
    "from surprise import SlopeOne\n",
    "from surprise.accuracy import rmse\n",
    "from surprise import CoClustering\n",
    "from surprise import BaselineOnly\n",
    "from surprise import accuracy\n",
    "\n",
    "# Packages for model evaluation\n",
    "from sklearn.metrics import mean_squared_error\n",
    "from sklearn.metrics import mean_absolute_error\n",
    "from time import time\n",
    "from datetime import datetime\n",
    "\n",
    "#word cloud\n",
    "%matplotlib inline\n",
    "import wordcloud\n",
    "from wordcloud import WordCloud, STOPWORDS\n",
    "%matplotlib inline\n",
    "sns.set()\n",
    "\n",
    "# Kaggle requirements\n",
    "import os\n",
    "for dirname, _, filenames in os.walk('/kaggle/input'):\n",
    "    for filename in filenames:\n",
    "        print(os.path.join(dirname, filename))   \n",
    "        \n"
   ]
  },
  {
   "cell_type": "code",
   "execution_count": 5,
   "metadata": {
    "execution": {
     "iopub.execute_input": "2021-07-22T12:08:52.852434Z",
     "iopub.status.busy": "2021-07-22T12:08:52.852030Z",
     "iopub.status.idle": "2021-07-22T12:08:57.616295Z",
     "shell.execute_reply": "2021-07-22T12:08:57.615535Z",
     "shell.execute_reply.started": "2021-07-22T12:08:52.852402Z"
    }
   },
   "outputs": [
    {
     "name": "stderr",
     "output_type": "stream",
     "text": [
      "COMET WARNING: As you are running in a Jupyter environment, you will need to call `experiment.end()` when finished to ensure all metrics and code are logged before exiting.\n",
      "COMET INFO: Experiment is live on comet.ml https://www.comet.ml/kwanda9700/unsupervised-predict-team-js4/4bf4f9b4657b4d9bb728f295476dcf16\n",
      "\n"
     ]
    }
   ],
   "source": [
    "# Create an experiment with your api key\n",
    "experiment = Experiment(\n",
    "    api_key=\"fdVf8HBu4jwg9hKw347n5Dj8h\",\n",
    "    project_name=\"unsupervised-predict-team-js4\",\n",
    "    workspace=\"kwanda9700\",\n",
    ")"
   ]
  },
  {
   "cell_type": "markdown",
   "metadata": {
    "id": "4indwX_C-pUx"
   },
   "source": [
    "## Loading the dataset\n",
    "We going to load the dataframe will be working with"
   ]
  },
  {
   "cell_type": "code",
   "execution_count": 6,
   "metadata": {
    "execution": {
     "iopub.execute_input": "2021-07-22T12:09:19.181095Z",
     "iopub.status.busy": "2021-07-22T12:09:19.180746Z",
     "iopub.status.idle": "2021-07-22T12:09:27.523469Z",
     "shell.execute_reply": "2021-07-22T12:09:27.522463Z",
     "shell.execute_reply.started": "2021-07-22T12:09:19.181067Z"
    },
    "id": "0JhIVQoQ-pUy"
   },
   "outputs": [],
   "source": [
    "#Loading data\n",
    "df_train = pd.read_csv('../input/edsa-movie-recommendation-challenge/train.csv')\n",
    "df_test = pd.read_csv('../input/edsa-movie-recommendation-challenge/test.csv')\n",
    "df_movies = pd.read_csv('../input/edsa-movie-recommendation-challenge/movies.csv')\n",
    "# df_sample_submission = pd.read_csv('../input/edsa-movie-recommendation-challenge/sample_submission.csv')\n",
    "# df_imdb = pd.read_csv('../input/edsa-movie-recommendation-challenge/imdb_data.csv')\n",
    "# df_genome_tags = pd.read_csv(\"../input/edsa-movie-recommendation-challenge/genome_tags.csv\")\n",
    "# df_genome_scores = pd.read_csv(\"../input/edsa-movie-recommendation-challenge/genome_scores.csv\")\n",
    "# df_tags = pd.read_csv(\"../input/edsa-movie-recommendation-challenge/tags.csv\")\n",
    "# df_links = pd.read_csv(\"../input/edsa-movie-recommendation-challenge/links.csv\")"
   ]
  },
  {
   "cell_type": "code",
   "execution_count": 10,
   "metadata": {
    "execution": {
     "iopub.execute_input": "2021-07-22T11:08:11.546983Z",
     "iopub.status.busy": "2021-07-22T11:08:11.546689Z",
     "iopub.status.idle": "2021-07-22T11:08:11.551207Z",
     "shell.execute_reply": "2021-07-22T11:08:11.550134Z",
     "shell.execute_reply.started": "2021-07-22T11:08:11.546956Z"
    },
    "id": "4vuYVvU4-pUz"
   },
   "outputs": [],
   "source": [
    "# df_train=pd.read_csv('data/train.csv')\n",
    "# df_links=pd.read_csv('data/links.csv')\n",
    "# df_movies=pd.read_csv('data/movies.csv')\n",
    "# df_imdb = pd.read_csv('data/imdb_data.csv')\n",
    "# df_sample_submission = pd.read_csv('data/sample_submission.csv')\n",
    "# df_tags=pd.read_csv('data/tags.csv')\n",
    "# df_genome_scores=pd.read_csv('data/genome_scores.csv')\n",
    "# df_genome_tags=pd.read_csv('data/genome_tags.csv')\n",
    "# df_test=pd.read_csv('data/test.csv')"
   ]
  },
  {
   "cell_type": "markdown",
   "metadata": {
    "id": "-BMjHfpv-pUz"
   },
   "source": [
    "## Evaluating the data\n",
    "\n",
    "This dataset consists of several million 5-star ratings obtained from users of the online MovieLens movie recommendation service. The MovieLens dataset has long been used by industry and academic researchers to improve the performance of explicitly-based recommender systems, and now you get to as well!\n",
    "\n",
    "For this Predict, we'll be using a special version of the MovieLens dataset which has enriched with additional data, and resampled for fair evaluation purposes.\n",
    "\n",
    "### Source\n",
    "The data for the MovieLens dataset is maintained by the GroupLens research group in the Department of Computer Science and Engineering at the University of Minnesota. Additional movie content data was legally scraped from IMDB\n",
    "\n",
    "### Supplied files\n",
    "- genome_scores.csv - a score mapping the strength between movies and tag-related properties. Read more here\n",
    "- genome_tags.csv - user assigned tags for genome-related scores\n",
    "- imdb_data.csv - Additional movie metadata scraped from IMDB using the links.csv file.\n",
    "- links.csv - File providing a mapping between a MovieLens ID and associated IMDB and TMDB IDs.\n",
    "- sample_submission.csv - Sample of the submission format for the hackathon.\n",
    "- tags.csv - User assigned for the movies within the dataset.\n",
    "- test.csv - The test split of the dataset. Contains user and movie IDs with no rating data.\n",
    "- train.csv - The training split of the dataset. Contains user and movie IDs with associated rating data."
   ]
  },
  {
   "cell_type": "code",
   "execution_count": 7,
   "metadata": {
    "execution": {
     "iopub.execute_input": "2021-07-22T12:09:40.280494Z",
     "iopub.status.busy": "2021-07-22T12:09:40.280111Z",
     "iopub.status.idle": "2021-07-22T12:09:40.289112Z",
     "shell.execute_reply": "2021-07-22T12:09:40.287884Z",
     "shell.execute_reply.started": "2021-07-22T12:09:40.280464Z"
    },
    "id": "MJkdGcUB-pU0",
    "outputId": "f7767812-a638-436b-ff62-001298143d8d"
   },
   "outputs": [
    {
     "name": "stdout",
     "output_type": "stream",
     "text": [
      "Train data contains 10000038 rows and 4 columns\n",
      "Movie data contains 62423 rows and 3 columns\n",
      "Test data contains 5000019 rows and 2 columns\n"
     ]
    }
   ],
   "source": [
    "print(\"Train data contains {} rows and {} columns\".format(df_train.shape[0], df_train.shape[1]))\n",
    "print(\"Movie data contains {} rows and {} columns\".format(df_movies.shape[0], df_movies.shape[1]))\n",
    "print(\"Test data contains {} rows and {} columns\".format(df_test.shape[0], df_test.shape[1]))"
   ]
  },
  {
   "cell_type": "code",
   "execution_count": 8,
   "metadata": {
    "execution": {
     "iopub.execute_input": "2021-07-22T12:09:46.750581Z",
     "iopub.status.busy": "2021-07-22T12:09:46.750203Z",
     "iopub.status.idle": "2021-07-22T12:09:46.778828Z",
     "shell.execute_reply": "2021-07-22T12:09:46.777925Z",
     "shell.execute_reply.started": "2021-07-22T12:09:46.750552Z"
    },
    "id": "gG1seMg9-pU1",
    "outputId": "e6565896-22e2-488f-aa9d-8917eb8c708a"
   },
   "outputs": [
    {
     "data": {
      "text/html": [
       "<div>\n",
       "<style scoped>\n",
       "    .dataframe tbody tr th:only-of-type {\n",
       "        vertical-align: middle;\n",
       "    }\n",
       "\n",
       "    .dataframe tbody tr th {\n",
       "        vertical-align: top;\n",
       "    }\n",
       "\n",
       "    .dataframe thead th {\n",
       "        text-align: right;\n",
       "    }\n",
       "</style>\n",
       "<table border=\"1\" class=\"dataframe\">\n",
       "  <thead>\n",
       "    <tr style=\"text-align: right;\">\n",
       "      <th></th>\n",
       "      <th>userId</th>\n",
       "      <th>movieId</th>\n",
       "      <th>rating</th>\n",
       "      <th>timestamp</th>\n",
       "    </tr>\n",
       "  </thead>\n",
       "  <tbody>\n",
       "    <tr>\n",
       "      <th>0</th>\n",
       "      <td>5163</td>\n",
       "      <td>57669</td>\n",
       "      <td>4.0</td>\n",
       "      <td>1518349992</td>\n",
       "    </tr>\n",
       "    <tr>\n",
       "      <th>1</th>\n",
       "      <td>106343</td>\n",
       "      <td>5</td>\n",
       "      <td>4.5</td>\n",
       "      <td>1206238739</td>\n",
       "    </tr>\n",
       "    <tr>\n",
       "      <th>2</th>\n",
       "      <td>146790</td>\n",
       "      <td>5459</td>\n",
       "      <td>5.0</td>\n",
       "      <td>1076215539</td>\n",
       "    </tr>\n",
       "    <tr>\n",
       "      <th>3</th>\n",
       "      <td>106362</td>\n",
       "      <td>32296</td>\n",
       "      <td>2.0</td>\n",
       "      <td>1423042565</td>\n",
       "    </tr>\n",
       "    <tr>\n",
       "      <th>4</th>\n",
       "      <td>9041</td>\n",
       "      <td>366</td>\n",
       "      <td>3.0</td>\n",
       "      <td>833375837</td>\n",
       "    </tr>\n",
       "  </tbody>\n",
       "</table>\n",
       "</div>"
      ],
      "text/plain": [
       "   userId  movieId  rating   timestamp\n",
       "0    5163    57669     4.0  1518349992\n",
       "1  106343        5     4.5  1206238739\n",
       "2  146790     5459     5.0  1076215539\n",
       "3  106362    32296     2.0  1423042565\n",
       "4    9041      366     3.0   833375837"
      ]
     },
     "execution_count": 8,
     "metadata": {},
     "output_type": "execute_result"
    }
   ],
   "source": [
    "#viewing training data\n",
    "df_train.head()"
   ]
  },
  {
   "cell_type": "markdown",
   "metadata": {
    "id": "8HKeEOze-pU1"
   },
   "source": [
    "Train:\n",
    "\n",
    "- UserId\n",
    "- movieId : Identifier for movies used\n",
    "- rating : Ratings are made on a 5-star scale, with half-star increments (0.5 stars - 5.0 stars)\n",
    "- timestamp: represent seconds since midnight Coordinated Universal Time (UTC) of January 1, 1970"
   ]
  },
  {
   "cell_type": "code",
   "execution_count": 9,
   "metadata": {
    "execution": {
     "iopub.execute_input": "2021-07-22T12:10:10.000262Z",
     "iopub.status.busy": "2021-07-22T12:10:09.999902Z",
     "iopub.status.idle": "2021-07-22T12:10:10.013047Z",
     "shell.execute_reply": "2021-07-22T12:10:10.011807Z",
     "shell.execute_reply.started": "2021-07-22T12:10:10.000234Z"
    },
    "id": "-rKPSFjM-pU1",
    "outputId": "d114659f-94f9-401f-cd97-3aaffcc940ea"
   },
   "outputs": [
    {
     "data": {
      "text/html": [
       "<div>\n",
       "<style scoped>\n",
       "    .dataframe tbody tr th:only-of-type {\n",
       "        vertical-align: middle;\n",
       "    }\n",
       "\n",
       "    .dataframe tbody tr th {\n",
       "        vertical-align: top;\n",
       "    }\n",
       "\n",
       "    .dataframe thead th {\n",
       "        text-align: right;\n",
       "    }\n",
       "</style>\n",
       "<table border=\"1\" class=\"dataframe\">\n",
       "  <thead>\n",
       "    <tr style=\"text-align: right;\">\n",
       "      <th></th>\n",
       "      <th>userId</th>\n",
       "      <th>movieId</th>\n",
       "    </tr>\n",
       "  </thead>\n",
       "  <tbody>\n",
       "    <tr>\n",
       "      <th>0</th>\n",
       "      <td>1</td>\n",
       "      <td>2011</td>\n",
       "    </tr>\n",
       "    <tr>\n",
       "      <th>1</th>\n",
       "      <td>1</td>\n",
       "      <td>4144</td>\n",
       "    </tr>\n",
       "    <tr>\n",
       "      <th>2</th>\n",
       "      <td>1</td>\n",
       "      <td>5767</td>\n",
       "    </tr>\n",
       "    <tr>\n",
       "      <th>3</th>\n",
       "      <td>1</td>\n",
       "      <td>6711</td>\n",
       "    </tr>\n",
       "    <tr>\n",
       "      <th>4</th>\n",
       "      <td>1</td>\n",
       "      <td>7318</td>\n",
       "    </tr>\n",
       "  </tbody>\n",
       "</table>\n",
       "</div>"
      ],
      "text/plain": [
       "   userId  movieId\n",
       "0       1     2011\n",
       "1       1     4144\n",
       "2       1     5767\n",
       "3       1     6711\n",
       "4       1     7318"
      ]
     },
     "execution_count": 9,
     "metadata": {},
     "output_type": "execute_result"
    }
   ],
   "source": [
    "#viewing test data\n",
    "df_test.head()"
   ]
  },
  {
   "cell_type": "markdown",
   "metadata": {
    "id": "f_XH7GH0-pU2"
   },
   "source": [
    "Tags:\n",
    "\n",
    "- userId\n",
    "- movieId : Identifier for movies used\n",
    "- tag : User-generated metadata about movies. Each tag is typically a single word or short phrase. The meaning, value, and purpose of a particular tag is determined by each user.\n",
    "- timestamp : represent seconds since midnight Coordinated Universal Time (UTC) of January 1, 1970"
   ]
  },
  {
   "cell_type": "code",
   "execution_count": 10,
   "metadata": {
    "execution": {
     "iopub.execute_input": "2021-07-22T12:10:14.991128Z",
     "iopub.status.busy": "2021-07-22T12:10:14.990787Z",
     "iopub.status.idle": "2021-07-22T12:10:15.002690Z",
     "shell.execute_reply": "2021-07-22T12:10:15.001611Z",
     "shell.execute_reply.started": "2021-07-22T12:10:14.991101Z"
    },
    "id": "OgS0PaQx-pU2",
    "outputId": "6f180e1f-c80e-4808-8446-a4b5551d7320"
   },
   "outputs": [
    {
     "data": {
      "text/html": [
       "<div>\n",
       "<style scoped>\n",
       "    .dataframe tbody tr th:only-of-type {\n",
       "        vertical-align: middle;\n",
       "    }\n",
       "\n",
       "    .dataframe tbody tr th {\n",
       "        vertical-align: top;\n",
       "    }\n",
       "\n",
       "    .dataframe thead th {\n",
       "        text-align: right;\n",
       "    }\n",
       "</style>\n",
       "<table border=\"1\" class=\"dataframe\">\n",
       "  <thead>\n",
       "    <tr style=\"text-align: right;\">\n",
       "      <th></th>\n",
       "      <th>movieId</th>\n",
       "      <th>title</th>\n",
       "      <th>genres</th>\n",
       "    </tr>\n",
       "  </thead>\n",
       "  <tbody>\n",
       "    <tr>\n",
       "      <th>0</th>\n",
       "      <td>1</td>\n",
       "      <td>Toy Story (1995)</td>\n",
       "      <td>Adventure|Animation|Children|Comedy|Fantasy</td>\n",
       "    </tr>\n",
       "    <tr>\n",
       "      <th>1</th>\n",
       "      <td>2</td>\n",
       "      <td>Jumanji (1995)</td>\n",
       "      <td>Adventure|Children|Fantasy</td>\n",
       "    </tr>\n",
       "    <tr>\n",
       "      <th>2</th>\n",
       "      <td>3</td>\n",
       "      <td>Grumpier Old Men (1995)</td>\n",
       "      <td>Comedy|Romance</td>\n",
       "    </tr>\n",
       "    <tr>\n",
       "      <th>3</th>\n",
       "      <td>4</td>\n",
       "      <td>Waiting to Exhale (1995)</td>\n",
       "      <td>Comedy|Drama|Romance</td>\n",
       "    </tr>\n",
       "    <tr>\n",
       "      <th>4</th>\n",
       "      <td>5</td>\n",
       "      <td>Father of the Bride Part II (1995)</td>\n",
       "      <td>Comedy</td>\n",
       "    </tr>\n",
       "  </tbody>\n",
       "</table>\n",
       "</div>"
      ],
      "text/plain": [
       "   movieId                               title  \\\n",
       "0        1                    Toy Story (1995)   \n",
       "1        2                      Jumanji (1995)   \n",
       "2        3             Grumpier Old Men (1995)   \n",
       "3        4            Waiting to Exhale (1995)   \n",
       "4        5  Father of the Bride Part II (1995)   \n",
       "\n",
       "                                        genres  \n",
       "0  Adventure|Animation|Children|Comedy|Fantasy  \n",
       "1                   Adventure|Children|Fantasy  \n",
       "2                               Comedy|Romance  \n",
       "3                         Comedy|Drama|Romance  \n",
       "4                                       Comedy  "
      ]
     },
     "execution_count": 10,
     "metadata": {},
     "output_type": "execute_result"
    }
   ],
   "source": [
    "#viewing movies data\n",
    "df_movies.head()"
   ]
  },
  {
   "cell_type": "markdown",
   "metadata": {
    "id": "3sd-iMFn-pU2"
   },
   "source": [
    "Movies:\n",
    "\n",
    "- movieId : Identify the movies that are watched \n",
    "\n",
    "- title : Entered manually or imported from https://www.themoviedb.org/, and include the year of release in parentheses. Errors and inconsistencies may exist in these titles.\n",
    "\n",
    "- genres: They are pipe-separated list, and are selected from the following:\n",
    "    - Action\n",
    "    - Adventure\n",
    "    - Animation\n",
    "    - Children's\n",
    "    - Comedy\n",
    "    - Crime\n",
    "    - Documentary\n",
    "    - Drama\n",
    "    - Fantasy\n",
    "    - Film-Noir\n",
    "    - Horror\n",
    "    - Musical\n",
    "    - Mystery\n",
    "    - Romance\n",
    "    - Sci-Fi\n",
    "    - Thriller\n",
    "    - War\n",
    "    - Western\n",
    "    - (no genres listed)"
   ]
  },
  {
   "cell_type": "markdown",
   "metadata": {
    "id": "1J2NYkM8-pU6"
   },
   "source": [
    "# Data Prepocessing"
   ]
  },
  {
   "cell_type": "markdown",
   "metadata": {},
   "source": [
    "## Checking for missing values"
   ]
  },
  {
   "cell_type": "code",
   "execution_count": 12,
   "metadata": {
    "execution": {
     "iopub.execute_input": "2021-07-22T12:12:09.050925Z",
     "iopub.status.busy": "2021-07-22T12:12:09.050424Z",
     "iopub.status.idle": "2021-07-22T12:12:09.123337Z",
     "shell.execute_reply": "2021-07-22T12:12:09.122418Z",
     "shell.execute_reply.started": "2021-07-22T12:12:09.050895Z"
    },
    "id": "h2-Bby6T-pU6"
   },
   "outputs": [
    {
     "data": {
      "text/plain": [
       "userId       0\n",
       "movieId      0\n",
       "rating       0\n",
       "timestamp    0\n",
       "dtype: int64"
      ]
     },
     "execution_count": 12,
     "metadata": {},
     "output_type": "execute_result"
    }
   ],
   "source": [
    "#check for missing values\n",
    "df_train.isnull().sum()"
   ]
  },
  {
   "cell_type": "markdown",
   "metadata": {},
   "source": [
    "## Checking for duplicate values"
   ]
  },
  {
   "cell_type": "code",
   "execution_count": 14,
   "metadata": {
    "execution": {
     "iopub.execute_input": "2021-07-22T12:12:43.879966Z",
     "iopub.status.busy": "2021-07-22T12:12:43.879456Z",
     "iopub.status.idle": "2021-07-22T12:12:47.547578Z",
     "shell.execute_reply": "2021-07-22T12:12:47.546621Z",
     "shell.execute_reply.started": "2021-07-22T12:12:43.879925Z"
    },
    "id": "-gR2FMFL-pU6"
   },
   "outputs": [
    {
     "name": "stdout",
     "output_type": "stream",
     "text": [
      "Number of duplicate records: 0\n"
     ]
    }
   ],
   "source": [
    "#check duplicates\n",
    "dup_bool = df_train.duplicated(['userId','movieId','rating'])\n",
    "\n",
    "#display duplicates\n",
    "print(\"Number of duplicate records:\",sum(dup_bool))"
   ]
  },
  {
   "cell_type": "markdown",
   "metadata": {},
   "source": [
    "## Creating a copy of df_train"
   ]
  },
  {
   "cell_type": "code",
   "execution_count": 15,
   "metadata": {
    "execution": {
     "iopub.execute_input": "2021-07-22T12:13:24.299694Z",
     "iopub.status.busy": "2021-07-22T12:13:24.299277Z",
     "iopub.status.idle": "2021-07-22T12:13:24.426174Z",
     "shell.execute_reply": "2021-07-22T12:13:24.425179Z",
     "shell.execute_reply.started": "2021-07-22T12:13:24.299663Z"
    },
    "id": "Gzj2-SxG-pU7"
   },
   "outputs": [],
   "source": [
    "df = df_train.copy()"
   ]
  },
  {
   "cell_type": "code",
   "execution_count": 16,
   "metadata": {
    "execution": {
     "iopub.execute_input": "2021-07-22T12:14:20.627609Z",
     "iopub.status.busy": "2021-07-22T12:14:20.627217Z",
     "iopub.status.idle": "2021-07-22T12:14:20.771318Z",
     "shell.execute_reply": "2021-07-22T12:14:20.770451Z",
     "shell.execute_reply.started": "2021-07-22T12:14:20.627581Z"
    },
    "id": "QaSY1T2Y-pU7"
   },
   "outputs": [
    {
     "data": {
      "text/html": [
       "<div>\n",
       "<style scoped>\n",
       "    .dataframe tbody tr th:only-of-type {\n",
       "        vertical-align: middle;\n",
       "    }\n",
       "\n",
       "    .dataframe tbody tr th {\n",
       "        vertical-align: top;\n",
       "    }\n",
       "\n",
       "    .dataframe thead th {\n",
       "        text-align: right;\n",
       "    }\n",
       "</style>\n",
       "<table border=\"1\" class=\"dataframe\">\n",
       "  <thead>\n",
       "    <tr style=\"text-align: right;\">\n",
       "      <th></th>\n",
       "      <th>userId</th>\n",
       "      <th>movieId</th>\n",
       "      <th>rating</th>\n",
       "      <th>timestamp</th>\n",
       "    </tr>\n",
       "  </thead>\n",
       "  <tbody>\n",
       "    <tr>\n",
       "      <th>0</th>\n",
       "      <td>5163</td>\n",
       "      <td>57669</td>\n",
       "      <td>4.0</td>\n",
       "      <td>1518349992</td>\n",
       "    </tr>\n",
       "    <tr>\n",
       "      <th>1</th>\n",
       "      <td>106343</td>\n",
       "      <td>5</td>\n",
       "      <td>4.5</td>\n",
       "      <td>1206238739</td>\n",
       "    </tr>\n",
       "    <tr>\n",
       "      <th>2</th>\n",
       "      <td>146790</td>\n",
       "      <td>5459</td>\n",
       "      <td>5.0</td>\n",
       "      <td>1076215539</td>\n",
       "    </tr>\n",
       "    <tr>\n",
       "      <th>3</th>\n",
       "      <td>106362</td>\n",
       "      <td>32296</td>\n",
       "      <td>2.0</td>\n",
       "      <td>1423042565</td>\n",
       "    </tr>\n",
       "    <tr>\n",
       "      <th>4</th>\n",
       "      <td>9041</td>\n",
       "      <td>366</td>\n",
       "      <td>3.0</td>\n",
       "      <td>833375837</td>\n",
       "    </tr>\n",
       "  </tbody>\n",
       "</table>\n",
       "</div>"
      ],
      "text/plain": [
       "   userId  movieId  rating   timestamp\n",
       "0    5163    57669     4.0  1518349992\n",
       "1  106343        5     4.5  1206238739\n",
       "2  146790     5459     5.0  1076215539\n",
       "3  106362    32296     2.0  1423042565\n",
       "4    9041      366     3.0   833375837"
      ]
     },
     "execution_count": 16,
     "metadata": {},
     "output_type": "execute_result"
    }
   ],
   "source": [
    "#create a copy of the train data\n",
    "train_df = df_train.copy()\n",
    "\n",
    "#display top 5 records\n",
    "train_df.head()"
   ]
  },
  {
   "cell_type": "markdown",
   "metadata": {},
   "source": [
    "## Evaluating Length of Unique Values"
   ]
  },
  {
   "cell_type": "code",
   "execution_count": 17,
   "metadata": {
    "execution": {
     "iopub.execute_input": "2021-07-22T12:15:11.601085Z",
     "iopub.status.busy": "2021-07-22T12:15:11.600711Z",
     "iopub.status.idle": "2021-07-22T12:15:11.820529Z",
     "shell.execute_reply": "2021-07-22T12:15:11.819554Z",
     "shell.execute_reply.started": "2021-07-22T12:15:11.601049Z"
    },
    "id": "vYVCV8fY-pU7"
   },
   "outputs": [
    {
     "data": {
      "text/plain": [
       "(162541, 48213)"
      ]
     },
     "execution_count": 17,
     "metadata": {},
     "output_type": "execute_result"
    }
   ],
   "source": [
    "# Find the length of the unique use\n",
    "len(df_train['userId'].unique()), len(df_train['movieId'].unique())"
   ]
  },
  {
   "cell_type": "code",
   "execution_count": 18,
   "metadata": {
    "execution": {
     "iopub.execute_input": "2021-07-22T12:15:25.312594Z",
     "iopub.status.busy": "2021-07-22T12:15:25.312221Z",
     "iopub.status.idle": "2021-07-22T12:15:25.322843Z",
     "shell.execute_reply": "2021-07-22T12:15:25.321871Z",
     "shell.execute_reply.started": "2021-07-22T12:15:25.312567Z"
    },
    "id": "N3_k0_Gb-pU7",
    "outputId": "7de2f34c-8858-4235-e909-8890dbc036bf"
   },
   "outputs": [
    {
     "data": {
      "text/html": [
       "<div>\n",
       "<style scoped>\n",
       "    .dataframe tbody tr th:only-of-type {\n",
       "        vertical-align: middle;\n",
       "    }\n",
       "\n",
       "    .dataframe tbody tr th {\n",
       "        vertical-align: top;\n",
       "    }\n",
       "\n",
       "    .dataframe thead th {\n",
       "        text-align: right;\n",
       "    }\n",
       "</style>\n",
       "<table border=\"1\" class=\"dataframe\">\n",
       "  <thead>\n",
       "    <tr style=\"text-align: right;\">\n",
       "      <th></th>\n",
       "      <th>movieId</th>\n",
       "      <th>title</th>\n",
       "      <th>genres</th>\n",
       "    </tr>\n",
       "  </thead>\n",
       "  <tbody>\n",
       "    <tr>\n",
       "      <th>0</th>\n",
       "      <td>1</td>\n",
       "      <td>Toy Story (1995)</td>\n",
       "      <td>Adventure|Animation|Children|Comedy|Fantasy</td>\n",
       "    </tr>\n",
       "    <tr>\n",
       "      <th>1</th>\n",
       "      <td>2</td>\n",
       "      <td>Jumanji (1995)</td>\n",
       "      <td>Adventure|Children|Fantasy</td>\n",
       "    </tr>\n",
       "    <tr>\n",
       "      <th>2</th>\n",
       "      <td>3</td>\n",
       "      <td>Grumpier Old Men (1995)</td>\n",
       "      <td>Comedy|Romance</td>\n",
       "    </tr>\n",
       "    <tr>\n",
       "      <th>3</th>\n",
       "      <td>4</td>\n",
       "      <td>Waiting to Exhale (1995)</td>\n",
       "      <td>Comedy|Drama|Romance</td>\n",
       "    </tr>\n",
       "    <tr>\n",
       "      <th>4</th>\n",
       "      <td>5</td>\n",
       "      <td>Father of the Bride Part II (1995)</td>\n",
       "      <td>Comedy</td>\n",
       "    </tr>\n",
       "  </tbody>\n",
       "</table>\n",
       "</div>"
      ],
      "text/plain": [
       "   movieId                               title  \\\n",
       "0        1                    Toy Story (1995)   \n",
       "1        2                      Jumanji (1995)   \n",
       "2        3             Grumpier Old Men (1995)   \n",
       "3        4            Waiting to Exhale (1995)   \n",
       "4        5  Father of the Bride Part II (1995)   \n",
       "\n",
       "                                        genres  \n",
       "0  Adventure|Animation|Children|Comedy|Fantasy  \n",
       "1                   Adventure|Children|Fantasy  \n",
       "2                               Comedy|Romance  \n",
       "3                         Comedy|Drama|Romance  \n",
       "4                                       Comedy  "
      ]
     },
     "execution_count": 18,
     "metadata": {},
     "output_type": "execute_result"
    }
   ],
   "source": [
    "#view movies\n",
    "df_movies.head()"
   ]
  },
  {
   "cell_type": "markdown",
   "metadata": {},
   "source": [
    "## Joining Datasets"
   ]
  },
  {
   "cell_type": "code",
   "execution_count": 19,
   "metadata": {
    "execution": {
     "iopub.execute_input": "2021-07-22T12:15:52.601045Z",
     "iopub.status.busy": "2021-07-22T12:15:52.600700Z",
     "iopub.status.idle": "2021-07-22T12:15:55.032319Z",
     "shell.execute_reply": "2021-07-22T12:15:55.031501Z",
     "shell.execute_reply.started": "2021-07-22T12:15:52.601017Z"
    },
    "id": "GRRPdut5-pU8",
    "outputId": "14196811-d2d8-4d8d-c16f-240cd944c982"
   },
   "outputs": [
    {
     "data": {
      "text/html": [
       "<div>\n",
       "<style scoped>\n",
       "    .dataframe tbody tr th:only-of-type {\n",
       "        vertical-align: middle;\n",
       "    }\n",
       "\n",
       "    .dataframe tbody tr th {\n",
       "        vertical-align: top;\n",
       "    }\n",
       "\n",
       "    .dataframe thead th {\n",
       "        text-align: right;\n",
       "    }\n",
       "</style>\n",
       "<table border=\"1\" class=\"dataframe\">\n",
       "  <thead>\n",
       "    <tr style=\"text-align: right;\">\n",
       "      <th></th>\n",
       "      <th>userId</th>\n",
       "      <th>movieId</th>\n",
       "      <th>rating</th>\n",
       "      <th>timestamp</th>\n",
       "      <th>title</th>\n",
       "      <th>genres</th>\n",
       "    </tr>\n",
       "  </thead>\n",
       "  <tbody>\n",
       "    <tr>\n",
       "      <th>0</th>\n",
       "      <td>5163</td>\n",
       "      <td>57669</td>\n",
       "      <td>4.0</td>\n",
       "      <td>1518349992</td>\n",
       "      <td>In Bruges (2008)</td>\n",
       "      <td>Comedy|Crime|Drama|Thriller</td>\n",
       "    </tr>\n",
       "    <tr>\n",
       "      <th>1</th>\n",
       "      <td>87388</td>\n",
       "      <td>57669</td>\n",
       "      <td>3.5</td>\n",
       "      <td>1237455297</td>\n",
       "      <td>In Bruges (2008)</td>\n",
       "      <td>Comedy|Crime|Drama|Thriller</td>\n",
       "    </tr>\n",
       "    <tr>\n",
       "      <th>2</th>\n",
       "      <td>137050</td>\n",
       "      <td>57669</td>\n",
       "      <td>4.0</td>\n",
       "      <td>1425631854</td>\n",
       "      <td>In Bruges (2008)</td>\n",
       "      <td>Comedy|Crime|Drama|Thriller</td>\n",
       "    </tr>\n",
       "    <tr>\n",
       "      <th>3</th>\n",
       "      <td>120490</td>\n",
       "      <td>57669</td>\n",
       "      <td>4.5</td>\n",
       "      <td>1408228517</td>\n",
       "      <td>In Bruges (2008)</td>\n",
       "      <td>Comedy|Crime|Drama|Thriller</td>\n",
       "    </tr>\n",
       "    <tr>\n",
       "      <th>4</th>\n",
       "      <td>50616</td>\n",
       "      <td>57669</td>\n",
       "      <td>4.5</td>\n",
       "      <td>1446941640</td>\n",
       "      <td>In Bruges (2008)</td>\n",
       "      <td>Comedy|Crime|Drama|Thriller</td>\n",
       "    </tr>\n",
       "  </tbody>\n",
       "</table>\n",
       "</div>"
      ],
      "text/plain": [
       "   userId  movieId  rating   timestamp             title  \\\n",
       "0    5163    57669     4.0  1518349992  In Bruges (2008)   \n",
       "1   87388    57669     3.5  1237455297  In Bruges (2008)   \n",
       "2  137050    57669     4.0  1425631854  In Bruges (2008)   \n",
       "3  120490    57669     4.5  1408228517  In Bruges (2008)   \n",
       "4   50616    57669     4.5  1446941640  In Bruges (2008)   \n",
       "\n",
       "                        genres  \n",
       "0  Comedy|Crime|Drama|Thriller  \n",
       "1  Comedy|Crime|Drama|Thriller  \n",
       "2  Comedy|Crime|Drama|Thriller  \n",
       "3  Comedy|Crime|Drama|Thriller  \n",
       "4  Comedy|Crime|Drama|Thriller  "
      ]
     },
     "execution_count": 19,
     "metadata": {},
     "output_type": "execute_result"
    }
   ],
   "source": [
    "# Merge\n",
    "df_merge1 = df_train.merge(df_movies, on = 'movieId')\n",
    "df_merge1.head()"
   ]
  },
  {
   "cell_type": "markdown",
   "metadata": {},
   "source": [
    "## Collaborative Filtering\n",
    "### What Is Collaborative Filtering?\n",
    "\n",
    "Collaborative filtering is a technique that can filter out items that a user might like on the basis of reactions by similar users.\n",
    "\n",
    "It works by searching a large group of people and finding a smaller set of users with tastes similar to a particular user. It looks at the items they like and combines them to create a ranked list of suggestions.\n",
    "\n",
    "to be more precise it is based on similarity in preference , taste and choices of two users. A good example that we can give you could be if user A likes movies 1,2 and 3 and user B likes movies 2,3 and 4 then this implies that they have similar interests and user A should like movie 4 and B should like movie 1.\n",
    "\n",
    "### Why Do We Consider Collaborating Filtering Over Content Based Filtering?\n",
    "\n",
    "Collaborative filtering recommender engine is a much better algorithim then content content based filtering since it is able to do feature laerning on its own, in other words it can laern which features to use\n",
    "\n",
    "### Advantages of Collaborative filtering:\n",
    "\n",
    "Taken that we find collaborative filtering better than content based, We will give a few adavntages to support the argument.\n",
    "\n",
    "- Takes other user ratings into consideration\n",
    "- Doesnt need to study or extract information from recommended item.\n",
    "- It adapts to the user' interest which might change over time.\n",
    "\n",
    "### About Collaborative Filtering Datasets:\n",
    "\n",
    "To take note that in order for us to implement this algorithm or any recommendation algorithms we need a specific dataset that is stuctured in a specific format. This data should entail a set of items and users who have reacted to some of the items.\n",
    "\n",
    "While working with such data, you’ll mostly see it in the form of a matrix consisting of the reactions given by a set of users to some items from a set of items. Each row would contain the ratings given by a user, and each column would contain the ratings received by an item. A matrix with five users and five items could look like this:"
   ]
  },
  {
   "cell_type": "markdown",
   "metadata": {},
   "source": [
    "### Loading as Surprise Dataframe\n",
    "We will be using the dataset module which loads the pandas dataframe that is available for this experiment, The reader function is used to parse a file containing ratings data. The default format in which it accepts data is that each rating is stored in a separate line in the order user, movie and rating"
   ]
  },
  {
   "cell_type": "code",
   "execution_count": 20,
   "metadata": {
    "execution": {
     "iopub.execute_input": "2021-07-22T12:18:14.618712Z",
     "iopub.status.busy": "2021-07-22T12:18:14.618343Z",
     "iopub.status.idle": "2021-07-22T12:18:29.332886Z",
     "shell.execute_reply": "2021-07-22T12:18:29.331813Z",
     "shell.execute_reply.started": "2021-07-22T12:18:14.618685Z"
    },
    "id": "Wse5Z8pM-pU8",
    "outputId": "5e132c69-e873-4648-edf0-7b4e62663317"
   },
   "outputs": [],
   "source": [
    "# Loading as Surprise dataframe \n",
    "reader = Reader()\n",
    "data = Dataset.load_from_df(df_train[['userId', 'movieId', 'rating']], reader)"
   ]
  },
  {
   "cell_type": "markdown",
   "metadata": {
    "id": "hfuDoX_W-pU8"
   },
   "source": [
    "### Removing the pipe between genres, title_cast and plot_keywords"
   ]
  },
  {
   "cell_type": "code",
   "execution_count": 21,
   "metadata": {
    "execution": {
     "iopub.execute_input": "2021-07-22T12:18:43.091578Z",
     "iopub.status.busy": "2021-07-22T12:18:43.091076Z",
     "iopub.status.idle": "2021-07-22T12:19:16.392734Z",
     "shell.execute_reply": "2021-07-22T12:19:16.391940Z",
     "shell.execute_reply.started": "2021-07-22T12:18:43.091550Z"
    },
    "id": "TilOo_yp-pU8"
   },
   "outputs": [],
   "source": [
    "# Data split 85/15\n",
    "trainset, testset = train_test_split(data, test_size=0.15)"
   ]
  },
  {
   "cell_type": "markdown",
   "metadata": {},
   "source": [
    "### Training Model\n",
    "Using the base algoritm of Co Clustering we will fit method which will train the algorithm on the trainset and and the test() method which will return the predictions made from the testset furthermore storing all our predictions on a dataframe called test."
   ]
  },
  {
   "cell_type": "code",
   "execution_count": 22,
   "metadata": {
    "execution": {
     "iopub.execute_input": "2021-07-22T12:19:35.831081Z",
     "iopub.status.busy": "2021-07-22T12:19:35.830572Z",
     "iopub.status.idle": "2021-07-22T12:19:35.834524Z",
     "shell.execute_reply": "2021-07-22T12:19:35.833720Z",
     "shell.execute_reply.started": "2021-07-22T12:19:35.831051Z"
    },
    "id": "TuIc_SgN-pU8",
    "outputId": "6753e6cc-2c86-447e-bad3-cc879a729add"
   },
   "outputs": [],
   "source": [
    "co_clust = CoClustering()"
   ]
  },
  {
   "cell_type": "code",
   "execution_count": null,
   "metadata": {
    "execution": {
     "iopub.execute_input": "2021-07-22T12:19:49.502709Z",
     "iopub.status.busy": "2021-07-22T12:19:49.502151Z"
    },
    "id": "Ejs2qaWc-pU9"
   },
   "outputs": [],
   "source": [
    "# Fitting our trainset\n",
    "co_clust.fit(trainset)\n",
    "\n",
    "# Using the 15% testset to make predictions\n",
    "predictions = co_clust.test(testset) \n",
    "predictions\n",
    "\n",
    "test = pd.DataFrame(predictions)"
   ]
  },
  {
   "cell_type": "markdown",
   "metadata": {},
   "source": [
    "Let us have a closer look into the predictions on the dataframe test."
   ]
  },
  {
   "cell_type": "code",
   "execution_count": null,
   "metadata": {
    "id": "c59vJVFN-pU9",
    "outputId": "760b596d-eeb0-49ab-f876-24fa153d7d91"
   },
   "outputs": [],
   "source": [
    "# View the head\n",
    "df_test.head()"
   ]
  },
  {
   "cell_type": "markdown",
   "metadata": {},
   "source": [
    "### Evaluate Model\n",
    "Utilising the test dataframe that we have created we are going to predict some of the ratings for each userId and movieId pair, this ratings predictions will be collected and stored as a list consiting of these pairs, ideally this list will help in predicting unknown values in the original matrix(test_df dataframe) (this is also known as matrix completion)\n",
    "\n",
    "Let us look at the list called ratings predictions."
   ]
  },
  {
   "cell_type": "code",
   "execution_count": 32,
   "metadata": {
    "execution": {
     "iopub.execute_input": "2021-07-22T11:08:12.719892Z",
     "iopub.status.busy": "2021-07-22T11:08:12.719371Z",
     "iopub.status.idle": "2021-07-22T11:08:15.145028Z",
     "shell.execute_reply": "2021-07-22T11:08:15.144220Z",
     "shell.execute_reply.started": "2021-07-22T11:08:12.719845Z"
    },
    "id": "GObjkFly-pU9",
    "outputId": "c808f412-b6e4-4ac0-d610-eeda9907b652"
   },
   "outputs": [
    {
     "data": {
      "text/html": [
       "<div>\n",
       "<style scoped>\n",
       "    .dataframe tbody tr th:only-of-type {\n",
       "        vertical-align: middle;\n",
       "    }\n",
       "\n",
       "    .dataframe tbody tr th {\n",
       "        vertical-align: top;\n",
       "    }\n",
       "\n",
       "    .dataframe thead th {\n",
       "        text-align: right;\n",
       "    }\n",
       "</style>\n",
       "<table border=\"1\" class=\"dataframe\">\n",
       "  <thead>\n",
       "    <tr style=\"text-align: right;\">\n",
       "      <th></th>\n",
       "      <th>userId</th>\n",
       "      <th>movieId</th>\n",
       "      <th>rating</th>\n",
       "      <th>timestamp</th>\n",
       "      <th>title</th>\n",
       "      <th>genres</th>\n",
       "    </tr>\n",
       "  </thead>\n",
       "  <tbody>\n",
       "    <tr>\n",
       "      <th>0</th>\n",
       "      <td>5163</td>\n",
       "      <td>57669</td>\n",
       "      <td>4.0</td>\n",
       "      <td>1518349992</td>\n",
       "      <td>In Bruges (2008)</td>\n",
       "      <td>Comedy,Crime,Drama,Thriller</td>\n",
       "    </tr>\n",
       "    <tr>\n",
       "      <th>1</th>\n",
       "      <td>87388</td>\n",
       "      <td>57669</td>\n",
       "      <td>3.5</td>\n",
       "      <td>1237455297</td>\n",
       "      <td>In Bruges (2008)</td>\n",
       "      <td>Comedy,Crime,Drama,Thriller</td>\n",
       "    </tr>\n",
       "    <tr>\n",
       "      <th>2</th>\n",
       "      <td>137050</td>\n",
       "      <td>57669</td>\n",
       "      <td>4.0</td>\n",
       "      <td>1425631854</td>\n",
       "      <td>In Bruges (2008)</td>\n",
       "      <td>Comedy,Crime,Drama,Thriller</td>\n",
       "    </tr>\n",
       "    <tr>\n",
       "      <th>3</th>\n",
       "      <td>120490</td>\n",
       "      <td>57669</td>\n",
       "      <td>4.5</td>\n",
       "      <td>1408228517</td>\n",
       "      <td>In Bruges (2008)</td>\n",
       "      <td>Comedy,Crime,Drama,Thriller</td>\n",
       "    </tr>\n",
       "    <tr>\n",
       "      <th>4</th>\n",
       "      <td>50616</td>\n",
       "      <td>57669</td>\n",
       "      <td>4.5</td>\n",
       "      <td>1446941640</td>\n",
       "      <td>In Bruges (2008)</td>\n",
       "      <td>Comedy,Crime,Drama,Thriller</td>\n",
       "    </tr>\n",
       "  </tbody>\n",
       "</table>\n",
       "</div>"
      ],
      "text/plain": [
       "   userId  movieId  rating   timestamp             title  \\\n",
       "0    5163    57669     4.0  1518349992  In Bruges (2008)   \n",
       "1   87388    57669     3.5  1237455297  In Bruges (2008)   \n",
       "2  137050    57669     4.0  1425631854  In Bruges (2008)   \n",
       "3  120490    57669     4.5  1408228517  In Bruges (2008)   \n",
       "4   50616    57669     4.5  1446941640  In Bruges (2008)   \n",
       "\n",
       "                        genres  \n",
       "0  Comedy,Crime,Drama,Thriller  \n",
       "1  Comedy,Crime,Drama,Thriller  \n",
       "2  Comedy,Crime,Drama,Thriller  \n",
       "3  Comedy,Crime,Drama,Thriller  \n",
       "4  Comedy,Crime,Drama,Thriller  "
      ]
     },
     "execution_count": 32,
     "metadata": {},
     "output_type": "execute_result"
    }
   ],
   "source": [
    "# We are trying to predict ratings for every userId / movieId pair, we implement the below list comprehension to achieve this.\n",
    "ratings_predictions=[co_clust.predict(row.userId, row.movieId) for _,row in test_df.iterrows()]\n",
    "ratings_predictions"
   ]
  },
  {
   "cell_type": "markdown",
   "metadata": {},
   "source": [
    "We will store the list of predictions in a dataframe which will essentially in help in creating the familiar format of the dataframe"
   ]
  },
  {
   "cell_type": "code",
   "execution_count": 33,
   "metadata": {
    "execution": {
     "iopub.execute_input": "2021-07-22T11:08:15.146565Z",
     "iopub.status.busy": "2021-07-22T11:08:15.146121Z",
     "iopub.status.idle": "2021-07-22T11:08:17.173889Z",
     "shell.execute_reply": "2021-07-22T11:08:17.172734Z",
     "shell.execute_reply.started": "2021-07-22T11:08:15.146522Z"
    },
    "id": "B9pc-CTu-pU-",
    "outputId": "f63af922-7798-4291-e159-17a16920a10b"
   },
   "outputs": [
    {
     "data": {
      "text/plain": [
       "userId       0\n",
       "movieId      0\n",
       "rating       0\n",
       "timestamp    0\n",
       "title        0\n",
       "genres       0\n",
       "dtype: int64"
      ]
     },
     "execution_count": 33,
     "metadata": {},
     "output_type": "execute_result"
    }
   ],
   "source": [
    "# Converting our prediction into a familiar format-Dataframe\n",
    "df_pred=pd.DataFrame(ratings_predictions)\n",
    "df_pred"
   ]
  },
  {
   "cell_type": "code",
   "execution_count": 34,
   "metadata": {
    "execution": {
     "iopub.execute_input": "2021-07-22T11:08:17.175605Z",
     "iopub.status.busy": "2021-07-22T11:08:17.175221Z",
     "iopub.status.idle": "2021-07-22T11:08:19.738362Z",
     "shell.execute_reply": "2021-07-22T11:08:19.737329Z",
     "shell.execute_reply.started": "2021-07-22T11:08:17.175558Z"
    },
    "id": "3N6guNzK-pU-",
    "outputId": "e1f832d3-4571-4f1a-8989-3b7ddfc225f2"
   },
   "outputs": [
    {
     "data": {
      "text/html": [
       "<div>\n",
       "<style scoped>\n",
       "    .dataframe tbody tr th:only-of-type {\n",
       "        vertical-align: middle;\n",
       "    }\n",
       "\n",
       "    .dataframe tbody tr th {\n",
       "        vertical-align: top;\n",
       "    }\n",
       "\n",
       "    .dataframe thead th {\n",
       "        text-align: right;\n",
       "    }\n",
       "</style>\n",
       "<table border=\"1\" class=\"dataframe\">\n",
       "  <thead>\n",
       "    <tr style=\"text-align: right;\">\n",
       "      <th></th>\n",
       "      <th>userId</th>\n",
       "      <th>movieId</th>\n",
       "      <th>rating</th>\n",
       "      <th>timestamp</th>\n",
       "      <th>title</th>\n",
       "      <th>genres</th>\n",
       "      <th>title_cast</th>\n",
       "      <th>director</th>\n",
       "      <th>runtime</th>\n",
       "      <th>budget</th>\n",
       "      <th>plot_keywords</th>\n",
       "    </tr>\n",
       "  </thead>\n",
       "  <tbody>\n",
       "    <tr>\n",
       "      <th>0</th>\n",
       "      <td>5163</td>\n",
       "      <td>57669</td>\n",
       "      <td>4.0</td>\n",
       "      <td>1518349992</td>\n",
       "      <td>In Bruges (2008)</td>\n",
       "      <td>Comedy,Crime,Drama,Thriller</td>\n",
       "      <td>[Elizabeth Berrington, Rudy Blomme, Olivier Bo...</td>\n",
       "      <td>Martin McDonagh</td>\n",
       "      <td>107.0</td>\n",
       "      <td>$15,000,000</td>\n",
       "      <td>[dwarf, bruges, irish, hitman]</td>\n",
       "    </tr>\n",
       "    <tr>\n",
       "      <th>1</th>\n",
       "      <td>87388</td>\n",
       "      <td>57669</td>\n",
       "      <td>3.5</td>\n",
       "      <td>1237455297</td>\n",
       "      <td>In Bruges (2008)</td>\n",
       "      <td>Comedy,Crime,Drama,Thriller</td>\n",
       "      <td>[Elizabeth Berrington, Rudy Blomme, Olivier Bo...</td>\n",
       "      <td>Martin McDonagh</td>\n",
       "      <td>107.0</td>\n",
       "      <td>$15,000,000</td>\n",
       "      <td>[dwarf, bruges, irish, hitman]</td>\n",
       "    </tr>\n",
       "    <tr>\n",
       "      <th>2</th>\n",
       "      <td>137050</td>\n",
       "      <td>57669</td>\n",
       "      <td>4.0</td>\n",
       "      <td>1425631854</td>\n",
       "      <td>In Bruges (2008)</td>\n",
       "      <td>Comedy,Crime,Drama,Thriller</td>\n",
       "      <td>[Elizabeth Berrington, Rudy Blomme, Olivier Bo...</td>\n",
       "      <td>Martin McDonagh</td>\n",
       "      <td>107.0</td>\n",
       "      <td>$15,000,000</td>\n",
       "      <td>[dwarf, bruges, irish, hitman]</td>\n",
       "    </tr>\n",
       "    <tr>\n",
       "      <th>3</th>\n",
       "      <td>120490</td>\n",
       "      <td>57669</td>\n",
       "      <td>4.5</td>\n",
       "      <td>1408228517</td>\n",
       "      <td>In Bruges (2008)</td>\n",
       "      <td>Comedy,Crime,Drama,Thriller</td>\n",
       "      <td>[Elizabeth Berrington, Rudy Blomme, Olivier Bo...</td>\n",
       "      <td>Martin McDonagh</td>\n",
       "      <td>107.0</td>\n",
       "      <td>$15,000,000</td>\n",
       "      <td>[dwarf, bruges, irish, hitman]</td>\n",
       "    </tr>\n",
       "    <tr>\n",
       "      <th>4</th>\n",
       "      <td>50616</td>\n",
       "      <td>57669</td>\n",
       "      <td>4.5</td>\n",
       "      <td>1446941640</td>\n",
       "      <td>In Bruges (2008)</td>\n",
       "      <td>Comedy,Crime,Drama,Thriller</td>\n",
       "      <td>[Elizabeth Berrington, Rudy Blomme, Olivier Bo...</td>\n",
       "      <td>Martin McDonagh</td>\n",
       "      <td>107.0</td>\n",
       "      <td>$15,000,000</td>\n",
       "      <td>[dwarf, bruges, irish, hitman]</td>\n",
       "    </tr>\n",
       "  </tbody>\n",
       "</table>\n",
       "</div>"
      ],
      "text/plain": [
       "   userId  movieId  rating   timestamp             title  \\\n",
       "0    5163    57669     4.0  1518349992  In Bruges (2008)   \n",
       "1   87388    57669     3.5  1237455297  In Bruges (2008)   \n",
       "2  137050    57669     4.0  1425631854  In Bruges (2008)   \n",
       "3  120490    57669     4.5  1408228517  In Bruges (2008)   \n",
       "4   50616    57669     4.5  1446941640  In Bruges (2008)   \n",
       "\n",
       "                        genres  \\\n",
       "0  Comedy,Crime,Drama,Thriller   \n",
       "1  Comedy,Crime,Drama,Thriller   \n",
       "2  Comedy,Crime,Drama,Thriller   \n",
       "3  Comedy,Crime,Drama,Thriller   \n",
       "4  Comedy,Crime,Drama,Thriller   \n",
       "\n",
       "                                          title_cast         director  \\\n",
       "0  [Elizabeth Berrington, Rudy Blomme, Olivier Bo...  Martin McDonagh   \n",
       "1  [Elizabeth Berrington, Rudy Blomme, Olivier Bo...  Martin McDonagh   \n",
       "2  [Elizabeth Berrington, Rudy Blomme, Olivier Bo...  Martin McDonagh   \n",
       "3  [Elizabeth Berrington, Rudy Blomme, Olivier Bo...  Martin McDonagh   \n",
       "4  [Elizabeth Berrington, Rudy Blomme, Olivier Bo...  Martin McDonagh   \n",
       "\n",
       "   runtime       budget                   plot_keywords  \n",
       "0    107.0  $15,000,000  [dwarf, bruges, irish, hitman]  \n",
       "1    107.0  $15,000,000  [dwarf, bruges, irish, hitman]  \n",
       "2    107.0  $15,000,000  [dwarf, bruges, irish, hitman]  \n",
       "3    107.0  $15,000,000  [dwarf, bruges, irish, hitman]  \n",
       "4    107.0  $15,000,000  [dwarf, bruges, irish, hitman]  "
      ]
     },
     "execution_count": 34,
     "metadata": {},
     "output_type": "execute_result"
    }
   ],
   "source": [
    "# Renaming our predictions to original names\n",
    "df_pred=df_pred.rename(columns={'uid':'userId', 'iid':'movieId','est':'rating'})\n",
    "df_pred.drop(['r_ui','details'],axis=1,inplace=True)"
   ]
  },
  {
   "cell_type": "code",
   "execution_count": 35,
   "metadata": {
    "execution": {
     "iopub.execute_input": "2021-07-22T11:08:19.740091Z",
     "iopub.status.busy": "2021-07-22T11:08:19.739787Z",
     "iopub.status.idle": "2021-07-22T11:08:24.766780Z",
     "shell.execute_reply": "2021-07-22T11:08:24.765612Z",
     "shell.execute_reply.started": "2021-07-22T11:08:19.740061Z"
    },
    "id": "eYori4Gi-pU-",
    "outputId": "f18e035c-eaa3-4ae5-d956-717fd5bcd3ce"
   },
   "outputs": [
    {
     "data": {
      "text/plain": [
       "userId                 0\n",
       "movieId                0\n",
       "rating                 0\n",
       "timestamp              0\n",
       "title                  0\n",
       "genres                 0\n",
       "title_cast       2604407\n",
       "director         2602688\n",
       "runtime          2653058\n",
       "budget           3152276\n",
       "plot_keywords    2610043\n",
       "dtype: int64"
      ]
     },
     "execution_count": 35,
     "metadata": {},
     "output_type": "execute_result"
    }
   ],
   "source": [
    "# Snippet of our ratings\n",
    "df_pred.head()"
   ]
  },
  {
   "cell_type": "code",
   "execution_count": 36,
   "metadata": {
    "execution": {
     "iopub.execute_input": "2021-07-22T11:08:24.768465Z",
     "iopub.status.busy": "2021-07-22T11:08:24.768120Z",
     "iopub.status.idle": "2021-07-22T11:08:24.774102Z",
     "shell.execute_reply": "2021-07-22T11:08:24.773138Z",
     "shell.execute_reply.started": "2021-07-22T11:08:24.768423Z"
    },
    "id": "p_UuKlTc-pU_",
    "outputId": "35acb32c-729a-4d41-e77e-d62d31f2ec4d"
   },
   "outputs": [
    {
     "data": {
      "text/plain": [
       "(9633031, 11)"
      ]
     },
     "execution_count": 36,
     "metadata": {},
     "output_type": "execute_result"
    }
   ],
   "source": [
    "# Concatenating userId/movieId into a single Id column.(code has to be run twice to get desired outcome)\n",
    "df_pred['Id']=df_pred.apply(lambda x:'%s_%s' % (x['userId'],x['movieId']),axis=1)\n",
    "df_pred['Id']=df_pred.apply(lambda x:'%s_%s' % (x['userId'],x['movieId']),axis=1)"
   ]
  },
  {
   "cell_type": "code",
   "execution_count": 37,
   "metadata": {
    "execution": {
     "iopub.execute_input": "2021-07-22T11:08:24.775756Z",
     "iopub.status.busy": "2021-07-22T11:08:24.775374Z",
     "iopub.status.idle": "2021-07-22T11:08:24.798278Z",
     "shell.execute_reply": "2021-07-22T11:08:24.797228Z",
     "shell.execute_reply.started": "2021-07-22T11:08:24.775724Z"
    },
    "id": "Rf9u20a7-pU_",
    "outputId": "d1c53303-21ba-4a5a-d3aa-7a7b9bbe81b9"
   },
   "outputs": [
    {
     "data": {
      "text/plain": [
       "userId             int64\n",
       "movieId            int64\n",
       "rating           float64\n",
       "timestamp          int64\n",
       "title             object\n",
       "genres            object\n",
       "title_cast        object\n",
       "director          object\n",
       "runtime          float64\n",
       "budget            object\n",
       "plot_keywords     object\n",
       "dtype: object"
      ]
     },
     "execution_count": 37,
     "metadata": {},
     "output_type": "execute_result"
    }
   ],
   "source": [
    "# drop the two features from the dataset userId and movieId\n",
    "df_pred.drop(['userId', 'movieId'], inplace=True, axis= 1)"
   ]
  },
  {
   "cell_type": "markdown",
   "metadata": {},
   "source": [
    "## Preparing Submission\n",
    "The submission of this competition has to be in csv file entailing a id and rating column"
   ]
  },
  {
   "cell_type": "code",
   "execution_count": null,
   "metadata": {},
   "outputs": [],
   "source": [
    "# df_pred = df_pred[['Id', 'rating']]\n",
    "# df_pred.shape"
   ]
  },
  {
   "cell_type": "code",
   "execution_count": null,
   "metadata": {},
   "outputs": [],
   "source": [
    "# df_pred.to_csv(\"coClustering_model_base.csv\", index=False)"
   ]
  },
  {
   "cell_type": "code",
   "execution_count": null,
   "metadata": {},
   "outputs": [],
   "source": [
    "experiment.end()"
   ]
  }
 ],
 "metadata": {
  "kernelspec": {
   "display_name": "Python 3",
   "language": "python",
   "name": "python3"
  },
  "language_info": {
   "codemirror_mode": {
    "name": "ipython",
    "version": 3
   },
   "file_extension": ".py",
   "mimetype": "text/x-python",
   "name": "python",
   "nbconvert_exporter": "python",
   "pygments_lexer": "ipython3",
   "version": "3.8.5"
  }
 },
 "nbformat": 4,
 "nbformat_minor": 4
}
