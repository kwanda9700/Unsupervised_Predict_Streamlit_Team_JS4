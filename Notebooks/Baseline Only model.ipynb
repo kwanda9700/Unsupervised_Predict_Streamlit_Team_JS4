{
 "cells": [
  {
   "cell_type": "markdown",
   "metadata": {
    "id": "djw8qZIK-pUr"
   },
   "source": [
    "# Unsupervised Learning Team JS4\n",
    "We will use this Notebook to build and test various models relating to our goal.\n",
    "\n",
    "## Our Team:\n",
    "- Kwanda Silekwa\n",
    "- Thembinkosi Malefo\n",
    "- Sihle Riti\n",
    "- Nomfundo Manyisa\n",
    "- Ofentse Sabe\n",
    "- Thanyi\n",
    "\n",
    "## Introduction\n",
    "The rapid growth of data collection has led to a new era of information. Data is being used to create more efficient systems and this is where Recommendation Systems come into play. Recommendation Systems are a type of information filtering systems as they improve the quality of search results and provides items that are more relevant to the search item or are realted to the search history of the user.\n",
    "\n",
    "### What is recommendation system?\n",
    "Recommender System is a system that seeks to predict or filter preferences according to the user’s choices. Recommender systems are utilized in a variety of areas including movies, music, news, books, research articles, search queries, social tags, and products in general. Moreover, companies like Netflix and Spotify depend highly on the effectiveness of their recommendation engines for their business and sucees.\n",
    "\n",
    "![image.png](attachment:image.png)\n",
    "\n",
    "\n",
    "\n",
    "The current recommendation systems that are bring used and are popular are the content-based filtering and collaborative filtering which works by implementing different information sources to make the recommendations.\n",
    "\n",
    "- Content-based filtering (CBF) : makes recommendations based on user preferences for product features.\n",
    "- Collaborative filtering (CF): mimics user-to-user recommendations (i.e. it relies on how other users have responded to the same items). \n",
    "\n",
    "It predicts users preferences as a linear, weighted combination of other user preferences.\n",
    "We have to note that both of these methods have limitations: The CBF can recommend a new item but needs more data on user preferences to give out the best match. On the other hand, the CF requires large dataset with active users who rated the product before to make the most accurate predictions. The combination of both of these methods is known as hybrid recommendation systems.\n",
    "\n",
    "## Problem statement:\n",
    "Construct a recommendation algorithm based on content or collaborative filtering, capable of accurately predicting how a user will rate a movie they have not yet viewed based on their historical preferences"
   ]
  },
  {
   "cell_type": "markdown",
   "metadata": {
    "id": "8M8qB201-pUv"
   },
   "source": [
    "## Importing Libraries"
   ]
  },
  {
   "cell_type": "code",
   "execution_count": null,
   "metadata": {
    "execution": {
     "iopub.execute_input": "2021-07-22T11:07:28.583607Z",
     "iopub.status.busy": "2021-07-22T11:07:28.582852Z",
     "iopub.status.idle": "2021-07-22T11:07:28.587682Z",
     "shell.execute_reply": "2021-07-22T11:07:28.586771Z",
     "shell.execute_reply.started": "2021-07-22T11:07:28.583544Z"
    },
    "id": "yMFudhNn_C_P",
    "outputId": "a74a3bd2-798c-4cac-964b-ee38c11912ce"
   },
   "outputs": [],
   "source": [
    "# !pip install surprise"
   ]
  },
  {
   "cell_type": "code",
   "execution_count": null,
   "metadata": {
    "execution": {
     "iopub.execute_input": "2021-07-22T11:07:28.589056Z",
     "iopub.status.busy": "2021-07-22T11:07:28.588770Z",
     "iopub.status.idle": "2021-07-22T11:07:41.586066Z",
     "shell.execute_reply": "2021-07-22T11:07:41.584887Z",
     "shell.execute_reply.started": "2021-07-22T11:07:28.589028Z"
    }
   },
   "outputs": [],
   "source": [
    "# !pip install comet_ml"
   ]
  },
  {
   "cell_type": "code",
   "execution_count": null,
   "metadata": {
    "execution": {
     "iopub.execute_input": "2021-07-22T11:07:41.591256Z",
     "iopub.status.busy": "2021-07-22T11:07:41.590891Z",
     "iopub.status.idle": "2021-07-22T11:07:43.593080Z",
     "shell.execute_reply": "2021-07-22T11:07:43.592004Z",
     "shell.execute_reply.started": "2021-07-22T11:07:41.591220Z"
    },
    "id": "cZVkLKUX-pUw",
    "outputId": "ffa4ae5d-dbd2-4afd-c109-965ea827de4d"
   },
   "outputs": [],
   "source": [
    "from comet_ml import Experiment\n",
    "\n",
    "# Packages for data processing\n",
    "import numpy as np\n",
    "import pandas as pd\n",
    "# import datetime\n",
    "from sklearn import preprocessing\n",
    "from sklearn.datasets import make_blobs\n",
    "from sklearn.preprocessing import StandardScaler\n",
    "from sklearn.feature_extraction.text import TfidfVectorizer\n",
    "from sklearn.metrics.pairwise import cosine_similarity\n",
    "import re\n",
    "from scipy.sparse import csr_matrix\n",
    "import scipy as sp\n",
    "from ast import literal_eval\n",
    "import ast\n",
    "from IPython.display import FileLink\n",
    "from collections import Counter\n",
    "\n",
    "# visualisation libraries\n",
    "from matplotlib import pyplot as plt\n",
    "import seaborn as sns\n",
    "from numpy.random import RandomState\n",
    "from plotly.offline import init_notebook_mode, plot, iplot\n",
    "import plotly.graph_objs as go\n",
    "init_notebook_mode(connected=True)\n",
    "\n",
    "# Packages for modeling\n",
    "from surprise import Reader\n",
    "from surprise import Dataset\n",
    "from surprise import KNNWithMeans\n",
    "from surprise import KNNBasic\n",
    "from surprise.model_selection import cross_validate\n",
    "from surprise.model_selection import GridSearchCV\n",
    "from surprise.model_selection import train_test_split\n",
    "from surprise import SVD\n",
    "from surprise import SVDpp\n",
    "from surprise import NMF\n",
    "from surprise import SlopeOne\n",
    "from surprise import CoClustering\n",
    "from surprise import BaselineOnly\n",
    "from surprise import accuracy\n",
    "\n",
    "# Packages for model evaluation\n",
    "from sklearn.metrics import mean_squared_error\n",
    "from sklearn.metrics import mean_absolute_error\n",
    "from time import time\n",
    "from datetime import datetime\n",
    "\n",
    "#word cloud\n",
    "%matplotlib inline\n",
    "import wordcloud\n",
    "from wordcloud import WordCloud, STOPWORDS\n",
    "%matplotlib inline\n",
    "sns.set()\n",
    "\n",
    "# Kaggle requirements\n",
    "import os\n",
    "for dirname, _, filenames in os.walk('/kaggle/input'):\n",
    "    for filename in filenames:\n",
    "        print(os.path.join(dirname, filename))   \n",
    "        \n"
   ]
  },
  {
   "cell_type": "markdown",
   "metadata": {
    "id": "4indwX_C-pUx"
   },
   "source": [
    "## Loading the dataset\n",
    "We going to load the dataframe will be working with"
   ]
  },
  {
   "cell_type": "code",
   "execution_count": null,
   "metadata": {
    "execution": {
     "iopub.execute_input": "2021-07-22T11:07:46.961106Z",
     "iopub.status.busy": "2021-07-22T11:07:46.960686Z",
     "iopub.status.idle": "2021-07-22T11:08:11.545608Z",
     "shell.execute_reply": "2021-07-22T11:08:11.544576Z",
     "shell.execute_reply.started": "2021-07-22T11:07:46.961059Z"
    },
    "id": "0JhIVQoQ-pUy"
   },
   "outputs": [],
   "source": [
    "#Loading data\n",
    "df_train = pd.read_csv('../input/edsa-movie-recommendation-challenge/train.csv')\n",
    "df_test = pd.read_csv('../input/edsa-movie-recommendation-challenge/test.csv')\n",
    "df_movies = pd.read_csv('../input/edsa-movie-recommendation-challenge/movies.csv')\n",
    "df_sample_submission = pd.read_csv('../input/edsa-movie-recommendation-challenge/sample_submission.csv')\n",
    "df_imdb = pd.read_csv('../input/edsa-movie-recommendation-challenge/imdb_data.csv')\n",
    "df_genome_tags = pd.read_csv(\"../input/edsa-movie-recommendation-challenge/genome_tags.csv\")\n",
    "df_genome_scores = pd.read_csv(\"../input/edsa-movie-recommendation-challenge/genome_scores.csv\")\n",
    "df_tags = pd.read_csv(\"../input/edsa-movie-recommendation-challenge/tags.csv\")\n",
    "df_links = pd.read_csv(\"../input/edsa-movie-recommendation-challenge/links.csv\")"
   ]
  },
  {
   "cell_type": "code",
   "execution_count": null,
   "metadata": {
    "execution": {
     "iopub.execute_input": "2021-07-22T11:08:11.546983Z",
     "iopub.status.busy": "2021-07-22T11:08:11.546689Z",
     "iopub.status.idle": "2021-07-22T11:08:11.551207Z",
     "shell.execute_reply": "2021-07-22T11:08:11.550134Z",
     "shell.execute_reply.started": "2021-07-22T11:08:11.546956Z"
    },
    "id": "4vuYVvU4-pUz"
   },
   "outputs": [],
   "source": [
    "# df_train=pd.read_csv('data/train.csv')\n",
    "# df_links=pd.read_csv('data/links.csv')\n",
    "# df_movies=pd.read_csv('data/movies.csv')\n",
    "# df_imdb = pd.read_csv('data/imdb_data.csv')\n",
    "# df_sample_submission = pd.read_csv('data/sample_submission.csv')\n",
    "# df_tags=pd.read_csv('data/tags.csv')\n",
    "# df_genome_scores=pd.read_csv('data/genome_scores.csv')\n",
    "# df_genome_tags=pd.read_csv('data/genome_tags.csv')\n",
    "# df_test=pd.read_csv('data/test.csv')"
   ]
  },
  {
   "cell_type": "markdown",
   "metadata": {
    "id": "-BMjHfpv-pUz"
   },
   "source": [
    "## Evaluating the data\n",
    "\n",
    "This dataset consists of several million 5-star ratings obtained from users of the online MovieLens movie recommendation service. The MovieLens dataset has long been used by industry and academic researchers to improve the performance of explicitly-based recommender systems, and now you get to as well!\n",
    "\n",
    "For this Predict, we'll be using a special version of the MovieLens dataset which has enriched with additional data, and resampled for fair evaluation purposes.\n",
    "\n",
    "### Source\n",
    "The data for the MovieLens dataset is maintained by the GroupLens research group in the Department of Computer Science and Engineering at the University of Minnesota. Additional movie content data was legally scraped from IMDB\n",
    "\n",
    "### Supplied files\n",
    "- genome_scores.csv - a score mapping the strength between movies and tag-related properties. Read more here\n",
    "- genome_tags.csv - user assigned tags for genome-related scores\n",
    "- imdb_data.csv - Additional movie metadata scraped from IMDB using the links.csv file.\n",
    "- links.csv - File providing a mapping between a MovieLens ID and associated IMDB and TMDB IDs.\n",
    "- sample_submission.csv - Sample of the submission format for the hackathon.\n",
    "- tags.csv - User assigned for the movies within the dataset.\n",
    "- test.csv - The test split of the dataset. Contains user and movie IDs with no rating data.\n",
    "- train.csv - The training split of the dataset. Contains user and movie IDs with associated rating data."
   ]
  },
  {
   "cell_type": "code",
   "execution_count": null,
   "metadata": {
    "execution": {
     "iopub.execute_input": "2021-07-22T11:08:11.552841Z",
     "iopub.status.busy": "2021-07-22T11:08:11.552537Z",
     "iopub.status.idle": "2021-07-22T11:08:11.571305Z",
     "shell.execute_reply": "2021-07-22T11:08:11.570249Z",
     "shell.execute_reply.started": "2021-07-22T11:08:11.552813Z"
    },
    "id": "MJkdGcUB-pU0",
    "outputId": "f7767812-a638-436b-ff62-001298143d8d"
   },
   "outputs": [],
   "source": [
    "print(\"Train data contains {} rows and {} columns\".format(df_train.shape[0], df_train.shape[1]))\n",
    "print(\"Movie data contains {} rows and {} columns\".format(df_movies.shape[0], df_movies.shape[1]))\n",
    "print(\"Imdb data contains {} rows and {} columns\".format(df_imdb.shape[0], df_imdb.shape[1]))\n",
    "print(\"Genome_tags data contains {} rows and {} columns\".format(df_genome_tags.shape[0], df_genome_tags.shape[1]))\n",
    "print(\"Genome_scores data contains {} rows and {} columns\".format(df_genome_scores.shape[0], df_genome_scores.shape[1]))\n",
    "print(\"Tags data contains {} rows and {} columns\".format(df_tags.shape[0], df_tags.shape[1]))\n",
    "print(\"Links data contains {} rows and {} columns\".format(df_links.shape[0], df_links.shape[1]))"
   ]
  },
  {
   "cell_type": "code",
   "execution_count": null,
   "metadata": {
    "execution": {
     "iopub.execute_input": "2021-07-22T11:08:11.573985Z",
     "iopub.status.busy": "2021-07-22T11:08:11.573695Z",
     "iopub.status.idle": "2021-07-22T11:08:11.610969Z",
     "shell.execute_reply": "2021-07-22T11:08:11.609856Z",
     "shell.execute_reply.started": "2021-07-22T11:08:11.573957Z"
    },
    "id": "gG1seMg9-pU1",
    "outputId": "e6565896-22e2-488f-aa9d-8917eb8c708a"
   },
   "outputs": [],
   "source": [
    "#viewing training data\n",
    "df_train.head()"
   ]
  },
  {
   "cell_type": "markdown",
   "metadata": {
    "id": "8HKeEOze-pU1"
   },
   "source": [
    "Train:\n",
    "\n",
    "- UserId\n",
    "- movieId : Identifier for movies used\n",
    "- rating : Ratings are made on a 5-star scale, with half-star increments (0.5 stars - 5.0 stars)\n",
    "- timestamp: represent seconds since midnight Coordinated Universal Time (UTC) of January 1, 1970"
   ]
  },
  {
   "cell_type": "code",
   "execution_count": null,
   "metadata": {
    "execution": {
     "iopub.execute_input": "2021-07-22T11:08:11.613248Z",
     "iopub.status.busy": "2021-07-22T11:08:11.612911Z",
     "iopub.status.idle": "2021-07-22T11:08:11.626616Z",
     "shell.execute_reply": "2021-07-22T11:08:11.625566Z",
     "shell.execute_reply.started": "2021-07-22T11:08:11.613218Z"
    },
    "id": "-rKPSFjM-pU1",
    "outputId": "d114659f-94f9-401f-cd97-3aaffcc940ea"
   },
   "outputs": [],
   "source": [
    "#viewing tags data\n",
    "df_tags.head()"
   ]
  },
  {
   "cell_type": "markdown",
   "metadata": {
    "id": "f_XH7GH0-pU2"
   },
   "source": [
    "Tags:\n",
    "\n",
    "- userId\n",
    "- movieId : Identifier for movies used\n",
    "- tag : User-generated metadata about movies. Each tag is typically a single word or short phrase. The meaning, value, and purpose of a particular tag is determined by each user.\n",
    "- timestamp : represent seconds since midnight Coordinated Universal Time (UTC) of January 1, 1970"
   ]
  },
  {
   "cell_type": "code",
   "execution_count": null,
   "metadata": {
    "execution": {
     "iopub.execute_input": "2021-07-22T11:08:11.628636Z",
     "iopub.status.busy": "2021-07-22T11:08:11.628270Z",
     "iopub.status.idle": "2021-07-22T11:08:11.643908Z",
     "shell.execute_reply": "2021-07-22T11:08:11.642760Z",
     "shell.execute_reply.started": "2021-07-22T11:08:11.628605Z"
    },
    "id": "OgS0PaQx-pU2",
    "outputId": "6f180e1f-c80e-4808-8446-a4b5551d7320"
   },
   "outputs": [],
   "source": [
    "#viewing movies data\n",
    "df_movies.head()"
   ]
  },
  {
   "cell_type": "markdown",
   "metadata": {
    "id": "3sd-iMFn-pU2"
   },
   "source": [
    "Movies:\n",
    "\n",
    "- movieId : Identify the movies that are watched \n",
    "\n",
    "- title : Entered manually or imported from https://www.themoviedb.org/, and include the year of release in parentheses. Errors and inconsistencies may exist in these titles.\n",
    "\n",
    "- genres: They are pipe-separated list, and are selected from the following:\n",
    "    - Action\n",
    "    - Adventure\n",
    "    - Animation\n",
    "    - Children's\n",
    "    - Comedy\n",
    "    - Crime\n",
    "    - Documentary\n",
    "    - Drama\n",
    "    - Fantasy\n",
    "    - Film-Noir\n",
    "    - Horror\n",
    "    - Musical\n",
    "    - Mystery\n",
    "    - Romance\n",
    "    - Sci-Fi\n",
    "    - Thriller\n",
    "    - War\n",
    "    - Western\n",
    "    - (no genres listed)"
   ]
  },
  {
   "cell_type": "code",
   "execution_count": null,
   "metadata": {
    "execution": {
     "iopub.execute_input": "2021-07-22T11:08:11.645818Z",
     "iopub.status.busy": "2021-07-22T11:08:11.645504Z",
     "iopub.status.idle": "2021-07-22T11:08:11.662536Z",
     "shell.execute_reply": "2021-07-22T11:08:11.661206Z",
     "shell.execute_reply.started": "2021-07-22T11:08:11.645788Z"
    },
    "id": "m7bkYvuZ-pU3",
    "outputId": "45bf195a-096b-4631-9966-176aff1a414c"
   },
   "outputs": [],
   "source": [
    "#viewing links data\n",
    "df_links.head()"
   ]
  },
  {
   "cell_type": "markdown",
   "metadata": {
    "id": "6C9Ubkns-pU3"
   },
   "source": [
    "Links:\n",
    "\n",
    "- movieId : Identifier for movies used by https://movielens.org\n",
    "- imdbId : Identifier for movies used by http://www.imdb.com\n",
    "- tmdbId : An identifier for movies used by https://www.themoviedb.org."
   ]
  },
  {
   "cell_type": "code",
   "execution_count": null,
   "metadata": {
    "execution": {
     "iopub.execute_input": "2021-07-22T11:08:11.664536Z",
     "iopub.status.busy": "2021-07-22T11:08:11.664034Z",
     "iopub.status.idle": "2021-07-22T11:08:11.680789Z",
     "shell.execute_reply": "2021-07-22T11:08:11.679674Z",
     "shell.execute_reply.started": "2021-07-22T11:08:11.664479Z"
    },
    "id": "b9BdzA3g-pU4",
    "outputId": "15650384-f13c-44ae-a391-c13826ca59f3"
   },
   "outputs": [],
   "source": [
    "#viewing genome scores data\n",
    "df_genome_scores.head()"
   ]
  },
  {
   "cell_type": "code",
   "execution_count": null,
   "metadata": {
    "execution": {
     "iopub.execute_input": "2021-07-22T11:08:11.682827Z",
     "iopub.status.busy": "2021-07-22T11:08:11.682501Z",
     "iopub.status.idle": "2021-07-22T11:08:11.699091Z",
     "shell.execute_reply": "2021-07-22T11:08:11.698023Z",
     "shell.execute_reply.started": "2021-07-22T11:08:11.682797Z"
    },
    "id": "qLlaVAS9-pU4",
    "outputId": "04a87d80-99ac-4240-9070-359bfc27dacc"
   },
   "outputs": [],
   "source": [
    "#viewing genome tags data\n",
    "df_genome_tags.head()"
   ]
  },
  {
   "cell_type": "markdown",
   "metadata": {
    "id": "k32fKWP_-pU5"
   },
   "source": [
    "Genome_tags:\n",
    "\n",
    "- tagId\n",
    "- tag : tag descriptions for the tag IDs in the genome file"
   ]
  },
  {
   "cell_type": "code",
   "execution_count": null,
   "metadata": {
    "execution": {
     "iopub.execute_input": "2021-07-22T11:08:11.700870Z",
     "iopub.status.busy": "2021-07-22T11:08:11.700554Z",
     "iopub.status.idle": "2021-07-22T11:08:11.722392Z",
     "shell.execute_reply": "2021-07-22T11:08:11.721252Z",
     "shell.execute_reply.started": "2021-07-22T11:08:11.700839Z"
    },
    "id": "bc_Dg1jp-pU5",
    "outputId": "03fc9d98-2ad5-4cd4-b675-2138a9bd7212"
   },
   "outputs": [],
   "source": [
    "#viewing Imdb_data\n",
    "df_imdb.head()"
   ]
  },
  {
   "cell_type": "code",
   "execution_count": null,
   "metadata": {
    "execution": {
     "iopub.execute_input": "2021-07-22T11:08:11.724645Z",
     "iopub.status.busy": "2021-07-22T11:08:11.724287Z",
     "iopub.status.idle": "2021-07-22T11:08:11.836948Z",
     "shell.execute_reply": "2021-07-22T11:08:11.835907Z",
     "shell.execute_reply.started": "2021-07-22T11:08:11.724612Z"
    },
    "id": "Lan5rAS6-pU5",
    "outputId": "de07e241-7d6b-44d2-e380-7b26a59c6f75"
   },
   "outputs": [],
   "source": [
    "df_imdb.describe(include = 'all')"
   ]
  },
  {
   "cell_type": "markdown",
   "metadata": {
    "id": "1J2NYkM8-pU6"
   },
   "source": [
    "# Data Preparation"
   ]
  },
  {
   "cell_type": "code",
   "execution_count": null,
   "metadata": {
    "execution": {
     "iopub.execute_input": "2021-07-22T11:08:11.838712Z",
     "iopub.status.busy": "2021-07-22T11:08:11.838206Z",
     "iopub.status.idle": "2021-07-22T11:08:11.843185Z",
     "shell.execute_reply": "2021-07-22T11:08:11.842402Z",
     "shell.execute_reply.started": "2021-07-22T11:08:11.838677Z"
    },
    "id": "h2-Bby6T-pU6"
   },
   "outputs": [],
   "source": [
    "def to_list(df, column) :\n",
    "    df[column] = df[column].str.split('|')\n",
    "    return df[column]"
   ]
  },
  {
   "cell_type": "code",
   "execution_count": null,
   "metadata": {
    "execution": {
     "iopub.execute_input": "2021-07-22T11:08:11.845110Z",
     "iopub.status.busy": "2021-07-22T11:08:11.844581Z",
     "iopub.status.idle": "2021-07-22T11:08:11.858966Z",
     "shell.execute_reply": "2021-07-22T11:08:11.857998Z",
     "shell.execute_reply.started": "2021-07-22T11:08:11.845079Z"
    },
    "id": "-gR2FMFL-pU6"
   },
   "outputs": [],
   "source": [
    "def get_genre_list(df,column) :\n",
    "    genres_list = []\n",
    "    for genre in df[column].unique():\n",
    "        genres_list = genres_list + genre.split(\"|\")\n",
    "        genres_list = list(set(genres_list))\n",
    "    return genres_list"
   ]
  },
  {
   "cell_type": "code",
   "execution_count": null,
   "metadata": {
    "execution": {
     "iopub.execute_input": "2021-07-22T11:08:11.861041Z",
     "iopub.status.busy": "2021-07-22T11:08:11.860556Z",
     "iopub.status.idle": "2021-07-22T11:08:11.875517Z",
     "shell.execute_reply": "2021-07-22T11:08:11.874220Z",
     "shell.execute_reply.started": "2021-07-22T11:08:11.861008Z"
    },
    "id": "Gzj2-SxG-pU7"
   },
   "outputs": [],
   "source": [
    "# Make a census of the genre keywords\n",
    "def get_genre_labels(df,column) :\n",
    "    genre_labels = set()\n",
    "    for s in df_movies['genres'].str.split('|').values:\n",
    "        genre_labels = genre_labels.union(set(s))\n",
    "    return genre_labels"
   ]
  },
  {
   "cell_type": "code",
   "execution_count": null,
   "metadata": {
    "execution": {
     "iopub.execute_input": "2021-07-22T11:08:11.877203Z",
     "iopub.status.busy": "2021-07-22T11:08:11.876915Z",
     "iopub.status.idle": "2021-07-22T11:08:11.890672Z",
     "shell.execute_reply": "2021-07-22T11:08:11.889379Z",
     "shell.execute_reply.started": "2021-07-22T11:08:11.877175Z"
    },
    "id": "QaSY1T2Y-pU7"
   },
   "outputs": [],
   "source": [
    "# Function that counts the number of times each of the genre keywords appear\n",
    "def count_word(dataset, ref_col, census):\n",
    "   \n",
    "    keyword_count = dict()\n",
    "    for s in census: \n",
    "        keyword_count[s] = 0\n",
    "    for census_keywords in dataset[ref_col].str.split('|'):        \n",
    "        if type(census_keywords) == float and pd.isnull(census_keywords): \n",
    "            continue        \n",
    "        for s in [s for s in census_keywords if s in census]: \n",
    "            if pd.notnull(s): \n",
    "                keyword_count[s] += 1\n",
    "                \n",
    "    keyword_occurences = []\n",
    "    for k,v in keyword_count.items():\n",
    "        keyword_occurences.append([k,v])\n",
    "    keyword_occurences.sort(key = lambda x:x[1], reverse = True)\n",
    "    return keyword_occurences, keyword_count"
   ]
  },
  {
   "cell_type": "code",
   "execution_count": null,
   "metadata": {
    "execution": {
     "iopub.execute_input": "2021-07-22T11:08:11.892293Z",
     "iopub.status.busy": "2021-07-22T11:08:11.892007Z",
     "iopub.status.idle": "2021-07-22T11:08:11.904869Z",
     "shell.execute_reply": "2021-07-22T11:08:11.903962Z",
     "shell.execute_reply.started": "2021-07-22T11:08:11.892268Z"
    },
    "id": "vYVCV8fY-pU7"
   },
   "outputs": [],
   "source": [
    "def to_str(df, column) : \n",
    "    df[column] = [','.join(map(str, l)) for l in df[column]]\n",
    "    return df[column]"
   ]
  },
  {
   "cell_type": "code",
   "execution_count": null,
   "metadata": {
    "execution": {
     "iopub.execute_input": "2021-07-22T11:08:11.906382Z",
     "iopub.status.busy": "2021-07-22T11:08:11.905948Z",
     "iopub.status.idle": "2021-07-22T11:08:11.934012Z",
     "shell.execute_reply": "2021-07-22T11:08:11.932602Z",
     "shell.execute_reply.started": "2021-07-22T11:08:11.906349Z"
    },
    "id": "N3_k0_Gb-pU7",
    "outputId": "7de2f34c-8858-4235-e909-8890dbc036bf"
   },
   "outputs": [],
   "source": [
    "genre_labels = get_genre_list(df_movies, 'genres')\n",
    "print(genre_labels)"
   ]
  },
  {
   "cell_type": "code",
   "execution_count": null,
   "metadata": {
    "execution": {
     "iopub.execute_input": "2021-07-22T11:08:11.935695Z",
     "iopub.status.busy": "2021-07-22T11:08:11.935303Z",
     "iopub.status.idle": "2021-07-22T11:08:12.330396Z",
     "shell.execute_reply": "2021-07-22T11:08:12.329071Z",
     "shell.execute_reply.started": "2021-07-22T11:08:11.935665Z"
    },
    "id": "GRRPdut5-pU8",
    "outputId": "14196811-d2d8-4d8d-c16f-240cd944c982"
   },
   "outputs": [],
   "source": [
    "keyword_occurences, dum = count_word(df_movies, 'genres', genre_labels)\n",
    "print(keyword_occurences[:5])"
   ]
  },
  {
   "cell_type": "code",
   "execution_count": null,
   "metadata": {
    "execution": {
     "iopub.execute_input": "2021-07-22T11:08:12.335290Z",
     "iopub.status.busy": "2021-07-22T11:08:12.334929Z",
     "iopub.status.idle": "2021-07-22T11:08:12.349910Z",
     "shell.execute_reply": "2021-07-22T11:08:12.348545Z",
     "shell.execute_reply.started": "2021-07-22T11:08:12.335257Z"
    },
    "id": "Wse5Z8pM-pU8",
    "outputId": "5e132c69-e873-4648-edf0-7b4e62663317"
   },
   "outputs": [],
   "source": [
    "genres_list = get_genre_list(df_movies, 'genres')\n",
    "print(genres_list)"
   ]
  },
  {
   "cell_type": "markdown",
   "metadata": {
    "id": "hfuDoX_W-pU8"
   },
   "source": [
    "### Removing the pipe between genres, title_cast and plot_keywords"
   ]
  },
  {
   "cell_type": "code",
   "execution_count": null,
   "metadata": {
    "execution": {
     "iopub.execute_input": "2021-07-22T11:08:12.353124Z",
     "iopub.status.busy": "2021-07-22T11:08:12.352794Z",
     "iopub.status.idle": "2021-07-22T11:08:12.409633Z",
     "shell.execute_reply": "2021-07-22T11:08:12.408472Z",
     "shell.execute_reply.started": "2021-07-22T11:08:12.353092Z"
    },
    "id": "TilOo_yp-pU8"
   },
   "outputs": [],
   "source": [
    "df_movies.genres = to_list(df_movies, 'genres')"
   ]
  },
  {
   "cell_type": "code",
   "execution_count": null,
   "metadata": {
    "execution": {
     "iopub.execute_input": "2021-07-22T11:08:12.411272Z",
     "iopub.status.busy": "2021-07-22T11:08:12.410955Z",
     "iopub.status.idle": "2021-07-22T11:08:12.494187Z",
     "shell.execute_reply": "2021-07-22T11:08:12.493080Z",
     "shell.execute_reply.started": "2021-07-22T11:08:12.411235Z"
    },
    "id": "TuIc_SgN-pU8",
    "outputId": "6753e6cc-2c86-447e-bad3-cc879a729add"
   },
   "outputs": [],
   "source": [
    "df_movies.genres = to_str(df_movies, 'genres')\n",
    "df_movies.head()"
   ]
  },
  {
   "cell_type": "code",
   "execution_count": null,
   "metadata": {
    "execution": {
     "iopub.execute_input": "2021-07-22T11:08:12.495801Z",
     "iopub.status.busy": "2021-07-22T11:08:12.495483Z",
     "iopub.status.idle": "2021-07-22T11:08:12.524807Z",
     "shell.execute_reply": "2021-07-22T11:08:12.523665Z",
     "shell.execute_reply.started": "2021-07-22T11:08:12.495772Z"
    },
    "id": "Ejs2qaWc-pU9"
   },
   "outputs": [],
   "source": [
    "df_imdb.plot_keywords = to_list(df_imdb, 'plot_keywords')"
   ]
  },
  {
   "cell_type": "code",
   "execution_count": null,
   "metadata": {
    "execution": {
     "iopub.execute_input": "2021-07-22T11:08:12.526995Z",
     "iopub.status.busy": "2021-07-22T11:08:12.526378Z",
     "iopub.status.idle": "2021-07-22T11:08:12.718338Z",
     "shell.execute_reply": "2021-07-22T11:08:12.717660Z",
     "shell.execute_reply.started": "2021-07-22T11:08:12.526953Z"
    },
    "id": "c59vJVFN-pU9",
    "outputId": "760b596d-eeb0-49ab-f876-24fa153d7d91"
   },
   "outputs": [],
   "source": [
    "df_imdb.title_cast = to_list(df_imdb, 'title_cast')\n",
    "df_imdb.head()"
   ]
  },
  {
   "cell_type": "markdown",
   "metadata": {
    "id": "Q_m6HVea-pU9"
   },
   "source": [
    "#### Inorder to play along with our data and before data processing. Let's merge some of our data to see how it work out."
   ]
  },
  {
   "cell_type": "markdown",
   "metadata": {
    "id": "DNcqhrfn-pU9"
   },
   "source": [
    "### Merging of the df_train, df_movies and df_imdb dataframes into df_full_movies"
   ]
  },
  {
   "cell_type": "code",
   "execution_count": null,
   "metadata": {
    "execution": {
     "iopub.execute_input": "2021-07-22T11:08:12.719892Z",
     "iopub.status.busy": "2021-07-22T11:08:12.719371Z",
     "iopub.status.idle": "2021-07-22T11:08:15.145028Z",
     "shell.execute_reply": "2021-07-22T11:08:15.144220Z",
     "shell.execute_reply.started": "2021-07-22T11:08:12.719845Z"
    },
    "id": "GObjkFly-pU9",
    "outputId": "c808f412-b6e4-4ac0-d610-eeda9907b652"
   },
   "outputs": [],
   "source": [
    "# Merge the train and movies data\n",
    "table1 = pd.merge(df_train, df_movies, on = ['movieId'])\n",
    "# df_table1 = df_train.merge(df_movies, on='movieId')\n",
    "\n",
    "# Viewing the 1st 5 rows\n",
    "table1.head()"
   ]
  },
  {
   "cell_type": "code",
   "execution_count": null,
   "metadata": {
    "execution": {
     "iopub.execute_input": "2021-07-22T11:08:15.146565Z",
     "iopub.status.busy": "2021-07-22T11:08:15.146121Z",
     "iopub.status.idle": "2021-07-22T11:08:17.173889Z",
     "shell.execute_reply": "2021-07-22T11:08:17.172734Z",
     "shell.execute_reply.started": "2021-07-22T11:08:15.146522Z"
    },
    "id": "B9pc-CTu-pU-",
    "outputId": "f63af922-7798-4291-e159-17a16920a10b"
   },
   "outputs": [],
   "source": [
    "# Checking for nulls\n",
    "table1.isnull().sum()"
   ]
  },
  {
   "cell_type": "code",
   "execution_count": null,
   "metadata": {
    "execution": {
     "iopub.execute_input": "2021-07-22T11:08:17.175605Z",
     "iopub.status.busy": "2021-07-22T11:08:17.175221Z",
     "iopub.status.idle": "2021-07-22T11:08:19.738362Z",
     "shell.execute_reply": "2021-07-22T11:08:19.737329Z",
     "shell.execute_reply.started": "2021-07-22T11:08:17.175558Z"
    },
    "id": "3N6guNzK-pU-",
    "outputId": "e1f832d3-4571-4f1a-8989-3b7ddfc225f2"
   },
   "outputs": [],
   "source": [
    "# Merging table1 dataframe and Imdb data\n",
    "df_full_movies = pd.merge(table1, df_imdb, on='movieId')\n",
    "\n",
    "# Viewing the 1st 5 rows\n",
    "df_full_movies.head()"
   ]
  },
  {
   "cell_type": "code",
   "execution_count": null,
   "metadata": {
    "execution": {
     "iopub.execute_input": "2021-07-22T11:08:19.740091Z",
     "iopub.status.busy": "2021-07-22T11:08:19.739787Z",
     "iopub.status.idle": "2021-07-22T11:08:24.766780Z",
     "shell.execute_reply": "2021-07-22T11:08:24.765612Z",
     "shell.execute_reply.started": "2021-07-22T11:08:19.740061Z"
    },
    "id": "eYori4Gi-pU-",
    "outputId": "f18e035c-eaa3-4ae5-d956-717fd5bcd3ce"
   },
   "outputs": [],
   "source": [
    "# Checking for nulls\n",
    "df_full_movies.isnull().sum()"
   ]
  },
  {
   "cell_type": "code",
   "execution_count": null,
   "metadata": {
    "execution": {
     "iopub.execute_input": "2021-07-22T11:08:24.768465Z",
     "iopub.status.busy": "2021-07-22T11:08:24.768120Z",
     "iopub.status.idle": "2021-07-22T11:08:24.774102Z",
     "shell.execute_reply": "2021-07-22T11:08:24.773138Z",
     "shell.execute_reply.started": "2021-07-22T11:08:24.768423Z"
    },
    "id": "p_UuKlTc-pU_",
    "outputId": "35acb32c-729a-4d41-e77e-d62d31f2ec4d"
   },
   "outputs": [],
   "source": [
    "df_full_movies.shape"
   ]
  },
  {
   "cell_type": "code",
   "execution_count": null,
   "metadata": {
    "execution": {
     "iopub.execute_input": "2021-07-22T11:08:24.775756Z",
     "iopub.status.busy": "2021-07-22T11:08:24.775374Z",
     "iopub.status.idle": "2021-07-22T11:08:24.798278Z",
     "shell.execute_reply": "2021-07-22T11:08:24.797228Z",
     "shell.execute_reply.started": "2021-07-22T11:08:24.775724Z"
    },
    "id": "Rf9u20a7-pU_",
    "outputId": "d1c53303-21ba-4a5a-d3aa-7a7b9bbe81b9"
   },
   "outputs": [],
   "source": [
    "df_full_movies.dtypes"
   ]
  },
  {
   "cell_type": "markdown",
   "metadata": {
    "id": "qNpTk_bx-pVA"
   },
   "source": [
    "### Merging of the df_genome_scores and df_genome_tags into df_tags_scores"
   ]
  },
  {
   "cell_type": "code",
   "execution_count": null,
   "metadata": {
    "execution": {
     "iopub.execute_input": "2021-07-22T11:08:24.799732Z",
     "iopub.status.busy": "2021-07-22T11:08:24.799423Z",
     "iopub.status.idle": "2021-07-22T11:08:27.135851Z",
     "shell.execute_reply": "2021-07-22T11:08:27.134883Z",
     "shell.execute_reply.started": "2021-07-22T11:08:24.799699Z"
    },
    "id": "Qn0Jr86V-pVA",
    "outputId": "91645a10-a731-462a-8876-d7be29c276a2"
   },
   "outputs": [],
   "source": [
    "df_tags_scores = pd.merge(df_genome_tags , df_genome_scores , on = ['tagId'])\n",
    "df_tags_scores.head()"
   ]
  },
  {
   "cell_type": "code",
   "execution_count": null,
   "metadata": {
    "execution": {
     "iopub.execute_input": "2021-07-22T11:08:27.137379Z",
     "iopub.status.busy": "2021-07-22T11:08:27.137099Z",
     "iopub.status.idle": "2021-07-22T11:08:27.374781Z",
     "shell.execute_reply": "2021-07-22T11:08:27.373532Z",
     "shell.execute_reply.started": "2021-07-22T11:08:27.137354Z"
    },
    "id": "nPaCoMzJ-pVA",
    "outputId": "03eb1329-12d2-4542-e49d-e0eae7f9e97c"
   },
   "outputs": [],
   "source": [
    "# Capturing Tags only if its relevance is higher than 80% to a movie\n",
    "df_tags_scores_2 = df_tags_scores[df_tags_scores['relevance'] > 0.80]\n",
    "df_tags_scores_2.head()"
   ]
  },
  {
   "cell_type": "markdown",
   "metadata": {
    "id": "m1cbjEVK-pVB"
   },
   "source": [
    "# Exploratory data analysis"
   ]
  },
  {
   "cell_type": "markdown",
   "metadata": {
    "id": "ku2tKQI1-pVB"
   },
   "source": [
    "### Cleaning of the data and Visualizing"
   ]
  },
  {
   "cell_type": "code",
   "execution_count": null,
   "metadata": {
    "execution": {
     "iopub.execute_input": "2021-07-22T11:08:27.377951Z",
     "iopub.status.busy": "2021-07-22T11:08:27.377508Z",
     "iopub.status.idle": "2021-07-22T11:08:27.382753Z",
     "shell.execute_reply": "2021-07-22T11:08:27.381661Z",
     "shell.execute_reply.started": "2021-07-22T11:08:27.377915Z"
    },
    "id": "ZE8HNQRh-pVB"
   },
   "outputs": [],
   "source": [
    "colors = ['b', 'g', 'r', 'c', 'm', 'y', 'g']"
   ]
  },
  {
   "cell_type": "markdown",
   "metadata": {
    "id": "MyPn7JKk-pVC"
   },
   "source": [
    "##  &#128202; 1. Ratings\n",
    "#### i) Since we want to check the number of ratings people did, let add a column named, 'Number of rating'"
   ]
  },
  {
   "cell_type": "code",
   "execution_count": null,
   "metadata": {
    "execution": {
     "iopub.execute_input": "2021-07-22T11:08:27.385021Z",
     "iopub.status.busy": "2021-07-22T11:08:27.384708Z",
     "iopub.status.idle": "2021-07-22T11:08:28.624305Z",
     "shell.execute_reply": "2021-07-22T11:08:28.623130Z",
     "shell.execute_reply.started": "2021-07-22T11:08:27.384990Z"
    },
    "id": "_foFDqwG-pVC",
    "outputId": "d8d6fa4f-5ea7-4123-c891-3cceed4abcd6"
   },
   "outputs": [],
   "source": [
    "# Creating a plot for the movie ratings\n",
    "data = df_full_movies['rating'].value_counts().sort_index(ascending=False)\n",
    "trace = go.Bar(x=data.index,\n",
    "               y=data.values,\n",
    "               marker=dict(color='#0080ff'))\n",
    "layout = dict(title='Distribution of Movie ratings'.format(df_full_movies.shape[0]),\n",
    "              xaxis=dict(title='rating'),\n",
    "              yaxis=dict(title='Count'))\n",
    "fig = go.Figure(data=[trace], layout=layout)\n",
    "iplot(fig)\n"
   ]
  },
  {
   "cell_type": "markdown",
   "metadata": {
    "id": "1NPGMjw6-pVC"
   },
   "source": [
    "- We can observe that most of the movies we rated above 3 which exceeded the average of ratings and least of the movie rating was below 3"
   ]
  },
  {
   "cell_type": "markdown",
   "metadata": {
    "id": "TPuJEqZl-pVC"
   },
   "source": [
    "#### ii) Here is a distribution of number of ratings given by each user. Histogram is truncated for users that rated less than 200 movies. "
   ]
  },
  {
   "cell_type": "code",
   "execution_count": null,
   "metadata": {
    "execution": {
     "iopub.execute_input": "2021-07-22T11:08:28.626466Z",
     "iopub.status.busy": "2021-07-22T11:08:28.626016Z",
     "iopub.status.idle": "2021-07-22T11:08:32.664219Z",
     "shell.execute_reply": "2021-07-22T11:08:32.663088Z",
     "shell.execute_reply.started": "2021-07-22T11:08:28.626400Z"
    },
    "id": "wAPJBPQX-pVD",
    "outputId": "f1f2075c-9b7e-4b17-8eeb-babf1fcf348d"
   },
   "outputs": [],
   "source": [
    "user_ratings = df_full_movies.groupby(by='userId')\n",
    "d = user_ratings['rating'].count()\n",
    "limit = 200\n",
    "plt.hist(d[d<=limit], bins='fd')\n",
    "plt.xlabel('number of rated movies')\n",
    "plt.ylabel('number of users')\n",
    "print(f'Only users with less than {limit} ratings are displayed ({len(user_ratings) - len(d[d<=limit]):,} users omitted).')\n",
    "plt.show()"
   ]
  },
  {
   "cell_type": "code",
   "execution_count": null,
   "metadata": {
    "execution": {
     "iopub.execute_input": "2021-07-22T11:08:32.666725Z",
     "iopub.status.busy": "2021-07-22T11:08:32.666246Z",
     "iopub.status.idle": "2021-07-22T11:08:33.512643Z",
     "shell.execute_reply": "2021-07-22T11:08:33.511835Z",
     "shell.execute_reply.started": "2021-07-22T11:08:32.666671Z"
    },
    "id": "TEfmzaOT-pVD",
    "outputId": "fb37ea99-575c-4c62-8f25-55331cd4f1c7"
   },
   "outputs": [],
   "source": [
    "users_average = df_full_movies.groupby('userId')['rating'].mean()\n",
    "items_average = df_full_movies.groupby('movieId')['rating'].mean()\n",
    "plt.hist([users_average, items_average], histtype='step', density=True)\n",
    "plt.xlabel('average rating for a movie / by a user')\n",
    "plt.ylabel('number of movies / users')\n",
    "plt.legend(['average rating given by a user', 'average rating of a movie'], loc=2)\n",
    "plt.show()"
   ]
  },
  {
   "cell_type": "markdown",
   "metadata": {
    "id": "uEz5gi2A-pVD"
   },
   "source": [
    "##  &#128202; 2. Movies"
   ]
  },
  {
   "cell_type": "markdown",
   "metadata": {
    "id": "Po7qDvQs-pVD"
   },
   "source": [
    "This is a list of the most rated (among movies with at least 20 ratings):"
   ]
  },
  {
   "cell_type": "code",
   "execution_count": null,
   "metadata": {
    "execution": {
     "iopub.execute_input": "2021-07-22T11:08:33.514370Z",
     "iopub.status.busy": "2021-07-22T11:08:33.513898Z",
     "iopub.status.idle": "2021-07-22T11:08:33.764969Z",
     "shell.execute_reply": "2021-07-22T11:08:33.763704Z",
     "shell.execute_reply.started": "2021-07-22T11:08:33.514321Z"
    },
    "id": "ksWESZrB-pVE",
    "outputId": "c3383666-1e3c-4847-da02-9e80b70ad9b9"
   },
   "outputs": [],
   "source": [
    "movie_ratings = df_full_movies.groupby(by='movieId')\n",
    "most_rated = movie_ratings['rating'].count().sort_values(ascending=False).head(10)\n",
    "print(pd.merge(pd.DataFrame(most_rated), df_movies, on='movieId')[['title','rating']].rename(index=lambda x: x+1, columns={'rating': 'n. of ratings'}),'\\n')"
   ]
  },
  {
   "cell_type": "markdown",
   "metadata": {
    "id": "6-VmU7q2-pVE"
   },
   "source": [
    "This is a list of the top rated movies (among movies with at least 20 ratings):"
   ]
  },
  {
   "cell_type": "code",
   "execution_count": null,
   "metadata": {
    "execution": {
     "iopub.execute_input": "2021-07-22T11:08:33.766918Z",
     "iopub.status.busy": "2021-07-22T11:08:33.766496Z",
     "iopub.status.idle": "2021-07-22T11:08:34.076465Z",
     "shell.execute_reply": "2021-07-22T11:08:34.075346Z",
     "shell.execute_reply.started": "2021-07-22T11:08:33.766875Z"
    },
    "id": "7Z7e_5Kv-pVE",
    "outputId": "9e5b47ba-af2f-493d-ce4b-5ffdff3af5da"
   },
   "outputs": [],
   "source": [
    "movie_ratings = df_full_movies.groupby(by='movieId')\n",
    "top_rated = movie_ratings['rating'].mean().where(movie_ratings['rating'].count() > 20).sort_values(ascending=False).head(10)\n",
    "print(pd.merge(pd.DataFrame(top_rated), df_movies, on='movieId')[['title','rating']].rename(index=lambda x: x+1, columns={'rating': 'average rating'}))"
   ]
  },
  {
   "cell_type": "code",
   "execution_count": null,
   "metadata": {
    "execution": {
     "iopub.execute_input": "2021-07-22T11:08:34.078150Z",
     "iopub.status.busy": "2021-07-22T11:08:34.077842Z",
     "iopub.status.idle": "2021-07-22T11:08:56.595951Z",
     "shell.execute_reply": "2021-07-22T11:08:56.594714Z",
     "shell.execute_reply.started": "2021-07-22T11:08:34.078121Z"
    },
    "id": "5hDNBDdz-pVE",
    "outputId": "b312f28b-caab-49ed-8b9b-23cc03f0c622"
   },
   "outputs": [],
   "source": [
    "# Create a wordcloud of the movie titles\n",
    "df_movies['title'] = df_movies['title'].fillna(\"\").astype('str')\n",
    "title_corpus = ' '.join(df_movies['title'])\n",
    "title_wordcloud = WordCloud(stopwords=STOPWORDS, background_color='white', height=2000, width=4000).generate(title_corpus)\n",
    "\n",
    "# Plot the wordcloud\n",
    "plt.figure(figsize=(16,8))\n",
    "plt.imshow(title_wordcloud)\n",
    "plt.axis('off')\n",
    "plt.show()"
   ]
  },
  {
   "cell_type": "markdown",
   "metadata": {
    "id": "RDJ8m1Zn-pVF"
   },
   "source": [
    "- We can observe from that Girl, Love and Man are the most popular title words\n",
    "- We also observed that Warrior, Affair and Without are the least popular title words"
   ]
  },
  {
   "cell_type": "code",
   "execution_count": null,
   "metadata": {
    "execution": {
     "iopub.execute_input": "2021-07-22T11:08:56.597741Z",
     "iopub.status.busy": "2021-07-22T11:08:56.597385Z",
     "iopub.status.idle": "2021-07-22T11:09:08.241276Z",
     "shell.execute_reply": "2021-07-22T11:09:08.240247Z",
     "shell.execute_reply.started": "2021-07-22T11:08:56.597709Z"
    },
    "id": "d4dZzSeK-pVF",
    "outputId": "b35e067a-53e0-4a21-89f7-4b27bc6c6368"
   },
   "outputs": [],
   "source": [
    "# Creating a dataframe for the number of movies\n",
    "num_ratings = pd.DataFrame(df_full_movies.groupby('movieId').count()['rating']).reset_index()\n",
    "df_full_movies = pd.merge(left=df_full_movies, right=num_ratings, on='movieId')\n",
    "df_full_movies.rename(columns={'rating_x': 'rating', 'rating_y': 'NumberRatings'}, inplace=True)\n",
    "df_full_movies.head()"
   ]
  },
  {
   "cell_type": "code",
   "execution_count": null,
   "metadata": {
    "execution": {
     "iopub.execute_input": "2021-07-22T11:09:08.242873Z",
     "iopub.status.busy": "2021-07-22T11:09:08.242568Z",
     "iopub.status.idle": "2021-07-22T11:09:10.397130Z",
     "shell.execute_reply": "2021-07-22T11:09:10.396104Z",
     "shell.execute_reply.started": "2021-07-22T11:09:08.242842Z"
    },
    "id": "uvJBNoKk-pVF",
    "outputId": "ae5ec2ec-62a9-4bd5-84dc-83fab74a5066"
   },
   "outputs": [],
   "source": [
    "# Dropping the duplicates in the movies\n",
    "Remove_duplicates = df_full_movies.drop_duplicates('movieId')\n",
    "Remove_duplicates.head()"
   ]
  },
  {
   "cell_type": "code",
   "execution_count": null,
   "metadata": {
    "execution": {
     "iopub.execute_input": "2021-07-22T11:09:10.398846Z",
     "iopub.status.busy": "2021-07-22T11:09:10.398544Z",
     "iopub.status.idle": "2021-07-22T11:09:11.205682Z",
     "shell.execute_reply": "2021-07-22T11:09:11.204337Z",
     "shell.execute_reply.started": "2021-07-22T11:09:10.398816Z"
    },
    "id": "JwzlEHvO-pVF",
    "outputId": "1db26e20-a05b-4738-ca41-774f68fc5100"
   },
   "outputs": [],
   "source": [
    "# Getting the number of ratings per director\n",
    "Director_ratings = pd.DataFrame(Remove_duplicates.groupby('director').sum()['NumberRatings'].sort_values(ascending=False)).reset_index()\n",
    "\n",
    "# visualize the number of movies per director\n",
    "plt.figure(figsize = (14, 9.5))\n",
    "sns.barplot(data = Director_ratings.head(50), y = 'director', x = 'NumberRatings', color = 'Blue')\n",
    "plt.ylabel('Directors')\n",
    "plt.xlabel('Number of ratings')\n",
    "plt.title('Number of ratings per director\\n')\n",
    "#plt.xlim(0, 27)\n",
    "plt.show()"
   ]
  },
  {
   "cell_type": "code",
   "execution_count": null,
   "metadata": {
    "execution": {
     "iopub.execute_input": "2021-07-22T11:09:11.207591Z",
     "iopub.status.busy": "2021-07-22T11:09:11.207118Z",
     "iopub.status.idle": "2021-07-22T11:09:11.265661Z",
     "shell.execute_reply": "2021-07-22T11:09:11.264469Z",
     "shell.execute_reply.started": "2021-07-22T11:09:11.207544Z"
    },
    "id": "-YiFP2Vl-pVG",
    "outputId": "b6d27bee-87c2-400c-cee6-673a5da30ca0"
   },
   "outputs": [],
   "source": [
    "# Number of movies per director\n",
    "director_movies = pd.DataFrame(Remove_duplicates.groupby('director').count()['title'].sort_values(ascending=False)).reset_index()\n",
    "director_movies.head()"
   ]
  },
  {
   "cell_type": "code",
   "execution_count": null,
   "metadata": {
    "execution": {
     "iopub.execute_input": "2021-07-22T11:09:11.267494Z",
     "iopub.status.busy": "2021-07-22T11:09:11.267161Z",
     "iopub.status.idle": "2021-07-22T11:09:12.121543Z",
     "shell.execute_reply": "2021-07-22T11:09:12.120272Z",
     "shell.execute_reply.started": "2021-07-22T11:09:11.267461Z"
    },
    "id": "BamMoR5R-pVG",
    "outputId": "082ec8ea-aac3-41f4-dc67-cdd5fc861b61"
   },
   "outputs": [],
   "source": [
    "# Number of movies per director\n",
    "director_movies = pd.DataFrame(Remove_duplicates.groupby('director').count()['title'].sort_values(ascending=False)).reset_index()\n",
    "\n",
    "\n",
    "# visualize the number of movies per director\n",
    "plt.figure(figsize = (14, 9.5))\n",
    "sns.barplot(data = director_movies.head(50), y = 'director', x = 'title', color = 'Blue')\n",
    "plt.ylabel('Directors')\n",
    "plt.xlabel('Number of movies released')\n",
    "plt.title('Number of Movies released per director\\n')\n",
    "plt.xlim(0, 27)\n",
    "plt.show()"
   ]
  },
  {
   "cell_type": "code",
   "execution_count": null,
   "metadata": {
    "id": "tqPOf-i1-pVG"
   },
   "outputs": [],
   "source": []
  },
  {
   "cell_type": "markdown",
   "metadata": {
    "id": "SJaurtyd-pVG"
   },
   "source": [
    "##  &#128202; 3. Genres"
   ]
  },
  {
   "cell_type": "code",
   "execution_count": null,
   "metadata": {
    "execution": {
     "iopub.execute_input": "2021-07-22T11:09:12.123531Z",
     "iopub.status.busy": "2021-07-22T11:09:12.123094Z",
     "iopub.status.idle": "2021-07-22T11:09:12.147570Z",
     "shell.execute_reply": "2021-07-22T11:09:12.146510Z",
     "shell.execute_reply.started": "2021-07-22T11:09:12.123486Z"
    },
    "id": "hKIZAslQ-pVG",
    "outputId": "1385606d-463d-44aa-e704-ad57fde686a1"
   },
   "outputs": [],
   "source": [
    "df_full_movies.head()"
   ]
  },
  {
   "cell_type": "code",
   "execution_count": null,
   "metadata": {
    "execution": {
     "iopub.execute_input": "2021-07-22T11:09:12.149176Z",
     "iopub.status.busy": "2021-07-22T11:09:12.148899Z",
     "iopub.status.idle": "2021-07-22T11:09:12.162052Z",
     "shell.execute_reply": "2021-07-22T11:09:12.160848Z",
     "shell.execute_reply.started": "2021-07-22T11:09:12.149151Z"
    },
    "id": "7ABsq2M3-pVH",
    "outputId": "a40da5d1-afbb-4551-fec6-c8939c10c8b8"
   },
   "outputs": [],
   "source": [
    "print(genres_list)"
   ]
  },
  {
   "cell_type": "code",
   "execution_count": null,
   "metadata": {
    "execution": {
     "iopub.execute_input": "2021-07-22T11:09:12.163788Z",
     "iopub.status.busy": "2021-07-22T11:09:12.163415Z",
     "iopub.status.idle": "2021-07-22T11:09:12.176675Z",
     "shell.execute_reply": "2021-07-22T11:09:12.175549Z",
     "shell.execute_reply.started": "2021-07-22T11:09:12.163748Z"
    },
    "id": "yvXQL0Oj-pVH",
    "outputId": "dd5038fb-052a-4046-e8ae-66dbe35353f4"
   },
   "outputs": [],
   "source": [
    "print(genre_labels)"
   ]
  },
  {
   "cell_type": "code",
   "execution_count": null,
   "metadata": {
    "execution": {
     "iopub.execute_input": "2021-07-22T11:09:12.178300Z",
     "iopub.status.busy": "2021-07-22T11:09:12.177996Z",
     "iopub.status.idle": "2021-07-22T11:09:12.189080Z",
     "shell.execute_reply": "2021-07-22T11:09:12.187555Z",
     "shell.execute_reply.started": "2021-07-22T11:09:12.178274Z"
    },
    "id": "LSWLYUEr-pVH",
    "outputId": "37460cb3-e6d6-41a1-a6c7-3a5c7f09b883"
   },
   "outputs": [],
   "source": [
    "print(keyword_occurences)"
   ]
  },
  {
   "cell_type": "code",
   "execution_count": null,
   "metadata": {
    "execution": {
     "iopub.execute_input": "2021-07-22T11:09:12.191273Z",
     "iopub.status.busy": "2021-07-22T11:09:12.190853Z",
     "iopub.status.idle": "2021-07-22T11:09:12.588678Z",
     "shell.execute_reply": "2021-07-22T11:09:12.587523Z",
     "shell.execute_reply.started": "2021-07-22T11:09:12.191231Z"
    },
    "id": "DB23EouD-pVI",
    "outputId": "c70bbe19-a378-4b57-9348-f1d8e9fe7825"
   },
   "outputs": [],
   "source": [
    "# Define the dictionary used to produce the genre wordcloud\n",
    "genres = dict()\n",
    "trunc_occurences = keyword_occurences[0:18]\n",
    "for s in trunc_occurences:\n",
    "    genres[s[0]] = s[1]\n",
    "\n",
    "# plot the wordcloud\n",
    "genre_wordcloud = WordCloud(width=1000,height=400, background_color='black')\n",
    "genre_wordcloud.generate_from_frequencies(genres)\n",
    "f, ax = plt.subplots(figsize=(16, 8))\n",
    "plt.imshow(genre_wordcloud, interpolation=\"bilinear\")\n",
    "plt.axis('off')\n",
    "plt.show()"
   ]
  },
  {
   "cell_type": "code",
   "execution_count": null,
   "metadata": {
    "execution": {
     "iopub.execute_input": "2021-07-22T11:09:12.590851Z",
     "iopub.status.busy": "2021-07-22T11:09:12.590465Z",
     "iopub.status.idle": "2021-07-22T11:09:34.218075Z",
     "shell.execute_reply": "2021-07-22T11:09:34.217046Z",
     "shell.execute_reply.started": "2021-07-22T11:09:12.590813Z"
    },
    "id": "rIS5O_zH-pVI"
   },
   "outputs": [],
   "source": [
    "# Some preprocessing will done on the budget column\n",
    "#Removing commas\n",
    "df_full_movies['budget'] = df_full_movies['budget'].str.replace(',', '')\n",
    "\n",
    "#remove currency signs\n",
    "df_full_movies['budget'] = df_full_movies['budget'].str.extract('(\\d+)', expand=False)\n",
    "\n",
    "# Replace Nan with 0 on budget\n",
    "df_full_movies['budget'] = df_full_movies['budget'].replace(np.nan, 0)"
   ]
  },
  {
   "cell_type": "code",
   "execution_count": null,
   "metadata": {
    "execution": {
     "iopub.execute_input": "2021-07-22T11:09:34.220097Z",
     "iopub.status.busy": "2021-07-22T11:09:34.219661Z",
     "iopub.status.idle": "2021-07-22T11:09:52.790881Z",
     "shell.execute_reply": "2021-07-22T11:09:52.789794Z",
     "shell.execute_reply.started": "2021-07-22T11:09:34.220053Z"
    },
    "id": "jAOX4M9e-pVJ"
   },
   "outputs": [],
   "source": [
    "# Removing the years from title\n",
    "df_full_movies['release_year'] = df_full_movies.title.str.extract('(\\(\\d\\d\\d\\d\\))', expand=False)"
   ]
  },
  {
   "cell_type": "code",
   "execution_count": null,
   "metadata": {
    "execution": {
     "iopub.execute_input": "2021-07-22T11:09:52.792547Z",
     "iopub.status.busy": "2021-07-22T11:09:52.792208Z",
     "iopub.status.idle": "2021-07-22T11:10:08.674886Z",
     "shell.execute_reply": "2021-07-22T11:10:08.673753Z",
     "shell.execute_reply.started": "2021-07-22T11:09:52.792516Z"
    },
    "id": "gV_tOGdR-pVJ"
   },
   "outputs": [],
   "source": [
    "#Removing brackets\n",
    "df_full_movies['release_year'] = df_full_movies['release_year'].str.replace('[(,)]', '', regex=True)"
   ]
  },
  {
   "cell_type": "code",
   "execution_count": null,
   "metadata": {
    "execution": {
     "iopub.execute_input": "2021-07-22T11:10:08.676937Z",
     "iopub.status.busy": "2021-07-22T11:10:08.676371Z",
     "iopub.status.idle": "2021-07-22T11:10:29.615321Z",
     "shell.execute_reply": "2021-07-22T11:10:29.614126Z",
     "shell.execute_reply.started": "2021-07-22T11:10:08.676885Z"
    },
    "id": "kYNzVzBl-pVJ",
    "outputId": "029264e3-df0f-4de7-fcb0-467cba4ff55f"
   },
   "outputs": [],
   "source": [
    "# Changing the timestamp into years\n",
    "import time\n",
    "df_full_movies['timestamp'] = df_full_movies['timestamp'].apply(lambda x: time.strftime('%Y', time.localtime(x)))\n",
    "df_full_movies.head()"
   ]
  },
  {
   "cell_type": "code",
   "execution_count": null,
   "metadata": {
    "execution": {
     "iopub.execute_input": "2021-07-22T11:10:29.616970Z",
     "iopub.status.busy": "2021-07-22T11:10:29.616684Z",
     "iopub.status.idle": "2021-07-22T11:10:36.567080Z",
     "shell.execute_reply": "2021-07-22T11:10:36.565956Z",
     "shell.execute_reply.started": "2021-07-22T11:10:29.616944Z"
    },
    "id": "MhoeYPuL-pVK",
    "outputId": "dbd3b429-af55-4008-847c-01311c4853c6"
   },
   "outputs": [],
   "source": [
    "avg_ratings = df_full_movies.groupby(['movieId', 'title', 'genres', 'release_year'], as_index=False)['rating'].mean()\n",
    "avg_ratings.head()"
   ]
  },
  {
   "cell_type": "code",
   "execution_count": null,
   "metadata": {
    "execution": {
     "iopub.execute_input": "2021-07-22T11:10:36.568933Z",
     "iopub.status.busy": "2021-07-22T11:10:36.568551Z",
     "iopub.status.idle": "2021-07-22T11:10:36.595289Z",
     "shell.execute_reply": "2021-07-22T11:10:36.594149Z",
     "shell.execute_reply.started": "2021-07-22T11:10:36.568893Z"
    },
    "id": "4KFSczHW-pVK",
    "outputId": "2ed25319-3132-45ee-915d-8f072284cd72"
   },
   "outputs": [],
   "source": [
    "genres = avg_ratings['genres'].apply(lambda x: x[0:].split(','))\n",
    "genres.head()"
   ]
  },
  {
   "cell_type": "code",
   "execution_count": null,
   "metadata": {
    "execution": {
     "iopub.execute_input": "2021-07-22T11:10:36.597257Z",
     "iopub.status.busy": "2021-07-22T11:10:36.596794Z",
     "iopub.status.idle": "2021-07-22T11:10:36.616761Z",
     "shell.execute_reply": "2021-07-22T11:10:36.615843Z",
     "shell.execute_reply.started": "2021-07-22T11:10:36.597220Z"
    },
    "id": "K1TvACRD-pVK",
    "outputId": "8a28fe42-85ef-4db4-e7a5-16520768b277"
   },
   "outputs": [],
   "source": [
    "# create a new split_data dataframe\n",
    "split_data = pd.DataFrame({'genres':genres.values}, index = avg_ratings['genres'].index)\n",
    "\n",
    "split_data['rating'] = avg_ratings['rating']\n",
    "split_data['title'] = avg_ratings['title']\n",
    "split_data['year'] = avg_ratings['release_year']\n",
    "split_data['movieId'] = avg_ratings['movieId']\n",
    "\n",
    "split_data.head()"
   ]
  },
  {
   "cell_type": "code",
   "execution_count": null,
   "metadata": {
    "execution": {
     "iopub.execute_input": "2021-07-22T11:10:36.618336Z",
     "iopub.status.busy": "2021-07-22T11:10:36.617883Z",
     "iopub.status.idle": "2021-07-22T11:10:36.787916Z",
     "shell.execute_reply": "2021-07-22T11:10:36.787175Z",
     "shell.execute_reply.started": "2021-07-22T11:10:36.618305Z"
    },
    "id": "GZU45UcX-pVL",
    "outputId": "392d02ad-169c-4ad2-a7f0-7a16025c5f92"
   },
   "outputs": [],
   "source": [
    "objs = [split_data, pd.DataFrame(split_data['genres'].tolist())]\n",
    "new_df = pd.concat(objs, axis=1).drop('genres', axis=1).sort_values('rating', ascending=False)\n",
    "final_ratings = pd.melt(new_df, var_name='genre', value_name=\"genres\", id_vars=['movieId','rating','title', 'year'], value_vars=[0,1,2,3,4,5,6,7,8]).sort_values('rating', ascending=False)\n",
    "final_ratings = final_ratings[final_ratings.genres.notnull()].drop(\"genre\", axis=1)\n",
    "final_ratings.sort_values(by=['movieId'], inplace=True)\n",
    "final_ratings.head()"
   ]
  },
  {
   "cell_type": "code",
   "execution_count": null,
   "metadata": {
    "execution": {
     "iopub.execute_input": "2021-07-22T11:10:36.789443Z",
     "iopub.status.busy": "2021-07-22T11:10:36.788995Z",
     "iopub.status.idle": "2021-07-22T11:10:36.822845Z",
     "shell.execute_reply": "2021-07-22T11:10:36.821901Z",
     "shell.execute_reply.started": "2021-07-22T11:10:36.789402Z"
    },
    "id": "Oaja4aeV-pVL",
    "outputId": "9f8cf8f8-f6f3-4875-df62-bdd3fd449b3c"
   },
   "outputs": [],
   "source": [
    "# Total number of movies with a specific genre counted multiple times for multi genre movies\n",
    "genre_count = final_ratings.groupby('genres').count()[['movieId']]\n",
    "genre_count = genre_count.rename(columns = {'movieId': 'count'})\n",
    "genre_count = genre_count.sort_values('count', ascending=False)\n",
    "\n",
    "count = genre_count['count'].tolist()\n",
    "genre = genre_count.index.tolist()\n",
    "genre_count = pd.DataFrame({'genre': genre, 'count': count})\n",
    "genre_count"
   ]
  },
  {
   "cell_type": "code",
   "execution_count": null,
   "metadata": {
    "execution": {
     "iopub.execute_input": "2021-07-22T11:10:36.824551Z",
     "iopub.status.busy": "2021-07-22T11:10:36.824226Z",
     "iopub.status.idle": "2021-07-22T11:10:37.171623Z",
     "shell.execute_reply": "2021-07-22T11:10:37.170509Z",
     "shell.execute_reply.started": "2021-07-22T11:10:36.824512Z"
    },
    "id": "77y17f0n-pVM",
    "outputId": "d321a5c7-eba0-4b84-c5e1-b99d35bf2ea8"
   },
   "outputs": [],
   "source": [
    "genre_count.plot.barh(x = 'genre', y = 'count', color = 'blue')\n",
    "plt.xlabel('Number of movies')\n",
    "plt.ylabel('Genre')\n",
    "plt.title('Number of Movies vs Genre')\n",
    "\n",
    "plt.show()"
   ]
  },
  {
   "cell_type": "code",
   "execution_count": null,
   "metadata": {
    "execution": {
     "iopub.execute_input": "2021-07-22T11:10:37.173216Z",
     "iopub.status.busy": "2021-07-22T11:10:37.172911Z",
     "iopub.status.idle": "2021-07-22T11:10:37.199291Z",
     "shell.execute_reply": "2021-07-22T11:10:37.198137Z",
     "shell.execute_reply.started": "2021-07-22T11:10:37.173185Z"
    },
    "id": "01JSKSzV-pVM",
    "outputId": "dab4447d-8cd8-48d1-ea25-e4ec1e681b8d"
   },
   "outputs": [],
   "source": [
    "avg_genre_ratings = final_ratings.groupby(['genres'], as_index=False)['rating'].mean()\n",
    "avg_genre_ratings = avg_genre_ratings.sort_values(by=['rating'], ascending=False)\n",
    "avg_genre_ratings"
   ]
  },
  {
   "cell_type": "code",
   "execution_count": null,
   "metadata": {
    "execution": {
     "iopub.execute_input": "2021-07-22T11:10:37.202699Z",
     "iopub.status.busy": "2021-07-22T11:10:37.202380Z",
     "iopub.status.idle": "2021-07-22T11:10:37.799617Z",
     "shell.execute_reply": "2021-07-22T11:10:37.798503Z",
     "shell.execute_reply.started": "2021-07-22T11:10:37.202670Z"
    },
    "id": "0zPZgDMl-pVN",
    "outputId": "c5fa361c-1219-4ab5-ddc6-f8ed4690a27e"
   },
   "outputs": [],
   "source": [
    "avg_genre_ratings.plot.barh(x = 'genres', y='rating', color = 'blue')\n",
    "plt.xlabel('Rating')\n",
    "plt.ylabel('Genres')\n",
    "plt.title('Comparing Movie Ratings by Genre')\n",
    "\n",
    "plt.show()"
   ]
  },
  {
   "cell_type": "code",
   "execution_count": null,
   "metadata": {
    "execution": {
     "iopub.execute_input": "2021-07-22T11:10:37.801711Z",
     "iopub.status.busy": "2021-07-22T11:10:37.801253Z",
     "iopub.status.idle": "2021-07-22T11:10:37.880180Z",
     "shell.execute_reply": "2021-07-22T11:10:37.879203Z",
     "shell.execute_reply.started": "2021-07-22T11:10:37.801667Z"
    },
    "id": "Gl_wQbma-pVN",
    "outputId": "7bc1e5e6-de9d-4f34-b34c-3f5c9e7d691e"
   },
   "outputs": [],
   "source": [
    "final_ratings.sort_values(by=['year'], ascending=True)\n",
    "final_ratings"
   ]
  },
  {
   "cell_type": "code",
   "execution_count": null,
   "metadata": {
    "execution": {
     "iopub.execute_input": "2021-07-22T11:10:37.881780Z",
     "iopub.status.busy": "2021-07-22T11:10:37.881495Z",
     "iopub.status.idle": "2021-07-22T11:10:38.589110Z",
     "shell.execute_reply": "2021-07-22T11:10:38.588086Z",
     "shell.execute_reply.started": "2021-07-22T11:10:37.881755Z"
    },
    "id": "VJ2zil_N-pVN",
    "outputId": "499f9cca-317d-4790-a03c-8a6e3bee4c1e"
   },
   "outputs": [],
   "source": [
    "rating_acrossYears = final_ratings.groupby(['genres', 'year'], as_index=False)['rating'].mean()\n",
    "\n",
    "fig, ax = plt.subplots(figsize=(10, 12))\n",
    "for genre, year in rating_acrossYears.groupby('genres'):\n",
    "    year.plot(x='year', y='rating', ax=ax, label=genre)\n",
    "    \n",
    "plt.xlabel('Year (1995 - 2019)')\n",
    "plt.xlim(71, 94) \n",
    "plt.ylabel('Rating')\n",
    "plt.title('Trends in Average Movie Ratings for Different Genres')\n",
    "plt.show()"
   ]
  },
  {
   "cell_type": "markdown",
   "metadata": {
    "id": "KnxPsFuT-pVO"
   },
   "source": [
    "## Step 3: Build and evaluate models"
   ]
  },
  {
   "cell_type": "code",
   "execution_count": null,
   "metadata": {
    "execution": {
     "iopub.execute_input": "2021-07-22T11:10:38.590544Z",
     "iopub.status.busy": "2021-07-22T11:10:38.590227Z",
     "iopub.status.idle": "2021-07-22T11:10:38.604488Z",
     "shell.execute_reply": "2021-07-22T11:10:38.603442Z",
     "shell.execute_reply.started": "2021-07-22T11:10:38.590514Z"
    },
    "id": "FI6E8IdzPlIM",
    "outputId": "08051760-aef8-4339-9d48-181c4189fdfc"
   },
   "outputs": [],
   "source": [
    "df_train.head()"
   ]
  },
  {
   "cell_type": "code",
   "execution_count": null,
   "metadata": {
    "execution": {
     "iopub.execute_input": "2021-07-22T11:10:38.613120Z",
     "iopub.status.busy": "2021-07-22T11:10:38.612644Z",
     "iopub.status.idle": "2021-07-22T11:10:38.623102Z",
     "shell.execute_reply": "2021-07-22T11:10:38.621862Z",
     "shell.execute_reply.started": "2021-07-22T11:10:38.613090Z"
    },
    "id": "8454OqfIgYz0",
    "outputId": "d5918984-a7fd-4ea3-eec1-081e5d611a02"
   },
   "outputs": [],
   "source": [
    "df_test.head()"
   ]
  },
  {
   "cell_type": "code",
   "execution_count": null,
   "metadata": {
    "execution": {
     "iopub.execute_input": "2021-07-22T11:10:38.625275Z",
     "iopub.status.busy": "2021-07-22T11:10:38.624976Z",
     "iopub.status.idle": "2021-07-22T11:10:38.638563Z",
     "shell.execute_reply": "2021-07-22T11:10:38.637765Z",
     "shell.execute_reply.started": "2021-07-22T11:10:38.625246Z"
    },
    "id": "hDVH0R3lUeGz"
   },
   "outputs": [],
   "source": [
    "def train_split(df) :\n",
    "  reader = Reader()\n",
    "  data = Dataset.load_from_df(df_train[['userId', 'movieId', 'rating']], reader)\n",
    "  trainset, testset = train_test_split(data, test_size=0.25, random_state=42)\n",
    "  return trainset, testset\n"
   ]
  },
  {
   "cell_type": "code",
   "execution_count": null,
   "metadata": {
    "execution": {
     "iopub.execute_input": "2021-07-22T11:10:38.640023Z",
     "iopub.status.busy": "2021-07-22T11:10:38.639604Z",
     "iopub.status.idle": "2021-07-22T11:10:38.653832Z",
     "shell.execute_reply": "2021-07-22T11:10:38.652767Z",
     "shell.execute_reply.started": "2021-07-22T11:10:38.639994Z"
    },
    "id": "MpVzvyEOltNc"
   },
   "outputs": [],
   "source": [
    "def SVD_train_split(df) :\n",
    "  reader = Reader()\n",
    "  data = Dataset.load_from_df(df_train[['userId', 'movieId', 'rating']], reader)\n",
    "  trainset, testset = train_test_split(data, test_size=.1, random_state=42)\n",
    "  return trainset, testset"
   ]
  },
  {
   "cell_type": "code",
   "execution_count": null,
   "metadata": {
    "execution": {
     "iopub.execute_input": "2021-07-22T11:10:38.656223Z",
     "iopub.status.busy": "2021-07-22T11:10:38.655514Z",
     "iopub.status.idle": "2021-07-22T11:10:38.668090Z",
     "shell.execute_reply": "2021-07-22T11:10:38.666907Z",
     "shell.execute_reply.started": "2021-07-22T11:10:38.656176Z"
    },
    "id": "Nv5E-pXsVJec"
   },
   "outputs": [],
   "source": [
    "def train_split_size(X, y) :\n",
    "  X = X.n_ratings\n",
    "  y = len(y)\n",
    "  return print(\"Size of train ratings: \", X, \"and Size of test ratings: \", y)"
   ]
  },
  {
   "cell_type": "code",
   "execution_count": null,
   "metadata": {
    "execution": {
     "iopub.execute_input": "2021-07-22T11:10:38.670759Z",
     "iopub.status.busy": "2021-07-22T11:10:38.669888Z",
     "iopub.status.idle": "2021-07-22T11:10:38.686365Z",
     "shell.execute_reply": "2021-07-22T11:10:38.685624Z",
     "shell.execute_reply.started": "2021-07-22T11:10:38.670709Z"
    }
   },
   "outputs": [],
   "source": [
    "# def train_split_size_GridSearch(X) :\n",
    "#   X = len(X)\n",
    "# #   y = len(y)\n",
    "#   return print(\"Size of train ratings: \", X)"
   ]
  },
  {
   "cell_type": "code",
   "execution_count": null,
   "metadata": {
    "execution": {
     "iopub.execute_input": "2021-07-22T11:10:38.688641Z",
     "iopub.status.busy": "2021-07-22T11:10:38.688026Z",
     "iopub.status.idle": "2021-07-22T11:10:38.702597Z",
     "shell.execute_reply": "2021-07-22T11:10:38.701561Z",
     "shell.execute_reply.started": "2021-07-22T11:10:38.688593Z"
    },
    "id": "1n7hgx6jWMkj"
   },
   "outputs": [],
   "source": [
    "def build_model(model, trainset, testset) :\n",
    "  model = model\n",
    "  model.fit(trainset)\n",
    "  trainset_pred = model.test(trainset.build_testset())\n",
    "  testset_pred_test = model.test(testset)\n",
    "  return model, trainset_pred, testset_pred_test\n"
   ]
  },
  {
   "cell_type": "code",
   "execution_count": null,
   "metadata": {
    "execution": {
     "iopub.execute_input": "2021-07-22T11:10:38.704806Z",
     "iopub.status.busy": "2021-07-22T11:10:38.704308Z",
     "iopub.status.idle": "2021-07-22T11:10:38.716987Z",
     "shell.execute_reply": "2021-07-22T11:10:38.715963Z",
     "shell.execute_reply.started": "2021-07-22T11:10:38.704763Z"
    }
   },
   "outputs": [],
   "source": [
    "def build_model_GridSearch(df) :\n",
    "    reader = Reader\n",
    "    data = Dataset.load_from_df(df_train[['userId', 'movieId', 'rating']], reader = reader)\n",
    "    param_grid = {'bsl_options': {'method': ['als', 'sgd'],\n",
    "                              'reg': [1, 2]},\n",
    "              'k': [2, 3],\n",
    "              'sim_options': {'name': ['msd', 'cosine'],\n",
    "                              'min_support': [1, 5],\n",
    "                              'user_based': [False]}\n",
    "              }\n",
    "    model = GridSearchCV(SVD, param_grid, measures=['rmse', 'mae'], cv=1)\n",
    "    trainset_pred = model.fit(trainset)\n",
    "    return model, trainset_pred\n",
    "\n",
    "\n",
    "\n",
    "# reader = Reader(rating_scale=(1, 5))\n",
    "# data = Dataset.load_from_df(df[['profile_id', 'content_id', 'rating']], reader)\n",
    "# trainset, testset = train_test_split(data, test_size=.25, random_state=20)\n",
    "\n",
    "\n",
    "# param_grid = {\n",
    "#               'n_factors': [30],\n",
    "#               'n_epochs': [5, 10, 20], \n",
    "#               'lr_all': [0.002, 0.006, 0.018, 0.054, 0.10, 0.15]\n",
    "#              }\n",
    "# algo = GridSearchCV(SVDpp, param_grid, measures=['rmse', 'mae'], cv=3)\n",
    "# model = algo.fit(trainset)  // error occurs here\n",
    "\n",
    "\n",
    "# from surprise import SVD\n",
    "# from surprise import Dataset\n",
    "# from surprise.model_selection import GridSearchCV\n",
    "\n",
    "# # Use movielens-100K\n",
    "# data = Dataset.load_builtin('ml-100k')\n",
    "\n",
    "# param_grid = {'n_epochs': [5, 10], 'lr_all': [0.002, 0.005],\n",
    "#               'reg_all': [0.4, 0.6]}\n",
    "# gs = GridSearchCV(SVD, param_grid, measures=['rmse', 'mae'], cv=3)\n",
    "\n",
    "# gs.fit(data)\n",
    "\n",
    "# # best RMSE score\n",
    "# print(gs.best_score['rmse'])\n",
    "\n",
    "# # combination of parameters that gave the best RMSE score\n",
    "# print(gs.best_params['rmse'])"
   ]
  },
  {
   "cell_type": "code",
   "execution_count": null,
   "metadata": {
    "execution": {
     "iopub.execute_input": "2021-07-22T11:10:38.718682Z",
     "iopub.status.busy": "2021-07-22T11:10:38.718324Z",
     "iopub.status.idle": "2021-07-22T11:10:38.735826Z",
     "shell.execute_reply": "2021-07-22T11:10:38.734778Z",
     "shell.execute_reply.started": "2021-07-22T11:10:38.718651Z"
    }
   },
   "outputs": [],
   "source": [
    "def get_RMSE_score_GridSearch(X) :\n",
    "  X = accuracy.rmse(X)\n",
    "  return print(\"best RMSE score: \", X.best_score['rmse'], \"and combination of parameters that gave the best RMSE score: \", X.best_params['rmse'])"
   ]
  },
  {
   "cell_type": "code",
   "execution_count": null,
   "metadata": {
    "execution": {
     "iopub.execute_input": "2021-07-22T11:10:38.737553Z",
     "iopub.status.busy": "2021-07-22T11:10:38.737219Z",
     "iopub.status.idle": "2021-07-22T11:10:38.750045Z",
     "shell.execute_reply": "2021-07-22T11:10:38.749271Z",
     "shell.execute_reply.started": "2021-07-22T11:10:38.737522Z"
    },
    "id": "4bwXlEpmannL"
   },
   "outputs": [],
   "source": [
    "def get_RMSE_score(X, y) :\n",
    "  X = accuracy.rmse(X)\n",
    "  y = accuracy.rmse(y)\n",
    "  return print(\"Training set RMSE score: \", X, \"and Testing set RMSE score: \", y)"
   ]
  },
  {
   "cell_type": "code",
   "execution_count": null,
   "metadata": {},
   "outputs": [],
   "source": []
  },
  {
   "cell_type": "code",
   "execution_count": null,
   "metadata": {
    "execution": {
     "iopub.execute_input": "2021-07-22T11:10:38.752032Z",
     "iopub.status.busy": "2021-07-22T11:10:38.751405Z",
     "iopub.status.idle": "2021-07-22T11:10:38.765158Z",
     "shell.execute_reply": "2021-07-22T11:10:38.763939Z",
     "shell.execute_reply.started": "2021-07-22T11:10:38.751980Z"
    },
    "id": "C2i8Xyb6XVZ7"
   },
   "outputs": [],
   "source": [
    "# model.predict(1, 4144).est"
   ]
  },
  {
   "cell_type": "code",
   "execution_count": null,
   "metadata": {
    "execution": {
     "iopub.execute_input": "2021-07-22T11:10:38.767130Z",
     "iopub.status.busy": "2021-07-22T11:10:38.766558Z",
     "iopub.status.idle": "2021-07-22T11:10:38.780267Z",
     "shell.execute_reply": "2021-07-22T11:10:38.779189Z",
     "shell.execute_reply.started": "2021-07-22T11:10:38.767096Z"
    },
    "id": "4cCkvpThXbBi"
   },
   "outputs": [],
   "source": [
    "def create_submission(df, model) :\n",
    "  # df.tail()\n",
    "  sub_pred = []\n",
    "  for i, row in df.iterrows():\n",
    "      sub_pred.append(model.predict(row[\"userId\"], row[\"movieId\"]).est)\n",
    "  df_submission = pd.DataFrame()\n",
    "  df_submission[\"Id\"] = df[\"userId\"].astype(str) + \"_\" + df[\"movieId\"].astype(str)\n",
    "  df_submission[\"rating\"] = sub_pred\n",
    "  return df_submission"
   ]
  },
  {
   "cell_type": "code",
   "execution_count": null,
   "metadata": {
    "execution": {
     "iopub.execute_input": "2021-07-22T11:10:38.782595Z",
     "iopub.status.busy": "2021-07-22T11:10:38.781979Z",
     "iopub.status.idle": "2021-07-22T11:10:38.799967Z",
     "shell.execute_reply": "2021-07-22T11:10:38.799009Z",
     "shell.execute_reply.started": "2021-07-22T11:10:38.782557Z"
    },
    "id": "W-WLtlyYdQ-E"
   },
   "outputs": [],
   "source": [
    "def save_sub_file(df) :\n",
    "  now = datetime.now().strftime(\"%Y%m%d%H%M\")\n",
    "  # df_submission.to_csv(f\"submissions/Kwanda{model}_{now}.csv\", index=False)\n",
    "  df_submission.to_csv(f'Kwandas_{now}.csv', index=False)\n",
    "  name = f'Kwandas_{now}.csv'\n",
    "  return name"
   ]
  },
  {
   "cell_type": "markdown",
   "metadata": {
    "id": "fwzpk2Wgclnw"
   },
   "source": [
    "## Base Model"
   ]
  },
  {
   "cell_type": "code",
   "execution_count": null,
   "metadata": {
    "execution": {
     "iopub.execute_input": "2021-07-22T11:10:38.801612Z",
     "iopub.status.busy": "2021-07-22T11:10:38.801249Z",
     "iopub.status.idle": "2021-07-22T11:10:38.813785Z",
     "shell.execute_reply": "2021-07-22T11:10:38.813021Z",
     "shell.execute_reply.started": "2021-07-22T11:10:38.801572Z"
    },
    "id": "A3UohRRQchzL"
   },
   "outputs": [],
   "source": [
    "model = BaselineOnly()"
   ]
  },
  {
   "cell_type": "code",
   "execution_count": null,
   "metadata": {
    "execution": {
     "iopub.execute_input": "2021-07-22T11:10:38.815592Z",
     "iopub.status.busy": "2021-07-22T11:10:38.814974Z",
     "iopub.status.idle": "2021-07-22T11:11:24.580534Z",
     "shell.execute_reply": "2021-07-22T11:11:24.579337Z",
     "shell.execute_reply.started": "2021-07-22T11:10:38.815547Z"
    },
    "id": "JUpnAV7RYhnz"
   },
   "outputs": [],
   "source": [
    "trainset, testset = train_split(df_train)"
   ]
  },
  {
   "cell_type": "code",
   "execution_count": null,
   "metadata": {
    "execution": {
     "iopub.execute_input": "2021-07-22T11:11:24.582725Z",
     "iopub.status.busy": "2021-07-22T11:11:24.582248Z",
     "iopub.status.idle": "2021-07-22T11:11:24.588546Z",
     "shell.execute_reply": "2021-07-22T11:11:24.587485Z",
     "shell.execute_reply.started": "2021-07-22T11:11:24.582669Z"
    },
    "id": "vjrOTiaFY0R7",
    "outputId": "54295eb8-74a2-40ab-ef52-c3cc232de5a0"
   },
   "outputs": [],
   "source": [
    "test_size = train_split_size(trainset, testset)\n",
    "test_size"
   ]
  },
  {
   "cell_type": "code",
   "execution_count": null,
   "metadata": {
    "execution": {
     "iopub.execute_input": "2021-07-22T11:11:24.590554Z",
     "iopub.status.busy": "2021-07-22T11:11:24.590128Z",
     "iopub.status.idle": "2021-07-22T11:14:45.749107Z",
     "shell.execute_reply": "2021-07-22T11:14:45.748274Z",
     "shell.execute_reply.started": "2021-07-22T11:11:24.590514Z"
    },
    "id": "onaxZn_jZ6rT",
    "outputId": "2eb1eb74-010b-4c52-92f4-34502f8dd5b6"
   },
   "outputs": [],
   "source": [
    "model, trainset_pred, testset_pred = build_model(model, trainset, testset)"
   ]
  },
  {
   "cell_type": "code",
   "execution_count": null,
   "metadata": {
    "execution": {
     "iopub.execute_input": "2021-07-22T11:14:45.751017Z",
     "iopub.status.busy": "2021-07-22T11:14:45.750472Z",
     "iopub.status.idle": "2021-07-22T11:15:02.195599Z",
     "shell.execute_reply": "2021-07-22T11:15:02.193808Z",
     "shell.execute_reply.started": "2021-07-22T11:14:45.750982Z"
    },
    "id": "IWm0lnnwbglT",
    "outputId": "2251c5db-37d9-48cb-901d-e98bc676e550"
   },
   "outputs": [],
   "source": [
    "train_n_test_score = get_RMSE_score(trainset_pred, testset_pred)\n",
    "train_n_test_score"
   ]
  },
  {
   "cell_type": "code",
   "execution_count": null,
   "metadata": {
    "execution": {
     "iopub.execute_input": "2021-07-22T11:15:02.198022Z",
     "iopub.status.busy": "2021-07-22T11:15:02.197525Z"
    },
    "id": "_kZOpUeSdAgl",
    "outputId": "f7773c86-8cb6-4f26-f5dd-a2e485b7e1eb"
   },
   "outputs": [],
   "source": [
    "df_submission = create_submission(df_test, model)\n",
    "df_submission.head()"
   ]
  },
  {
   "cell_type": "code",
   "execution_count": null,
   "metadata": {
    "id": "aSXQ9vPhh3SC"
   },
   "outputs": [],
   "source": [
    "df_sub_file = save_sub_file(df_submission)"
   ]
  },
  {
   "cell_type": "code",
   "execution_count": null,
   "metadata": {},
   "outputs": [],
   "source": [
    "#Download csv\n",
    "FileLink(df_sub_file)"
   ]
  },
  {
   "cell_type": "code",
   "execution_count": null,
   "metadata": {},
   "outputs": [],
   "source": [
    "#delete csv\n",
    "file = \"/kaggle/working/\"+df_sub_file\n",
    "os.remove(file)"
   ]
  }
 ],
 "metadata": {
  "kernelspec": {
   "display_name": "Python 3",
   "language": "python",
   "name": "python3"
  },
  "language_info": {
   "codemirror_mode": {
    "name": "ipython",
    "version": 3
   },
   "file_extension": ".py",
   "mimetype": "text/x-python",
   "name": "python",
   "nbconvert_exporter": "python",
   "pygments_lexer": "ipython3",
   "version": "3.8.5"
  }
 },
 "nbformat": 4,
 "nbformat_minor": 4
}
